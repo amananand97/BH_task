{
 "cells": [
  {
   "cell_type": "code",
   "execution_count": 1,
   "metadata": {
    "colab": {
     "base_uri": "https://localhost:8080/"
    },
    "execution": {
     "iopub.execute_input": "2024-03-09T16:22:16.693352Z",
     "iopub.status.busy": "2024-03-09T16:22:16.692751Z",
     "iopub.status.idle": "2024-03-09T16:22:29.585964Z",
     "shell.execute_reply": "2024-03-09T16:22:29.585401Z",
     "shell.execute_reply.started": "2024-03-09T16:22:16.693313Z"
    },
    "executionInfo": {
     "elapsed": 10306,
     "status": "ok",
     "timestamp": 1709840125085,
     "user": {
      "displayName": "Aman Anand",
      "userId": "10574522030686137715"
     },
     "user_tz": -330
    },
    "id": "I74GpMoI_4nT",
    "outputId": "37ca9235-e4b0-4607-8915-201097d9cef6"
   },
   "outputs": [
    {
     "name": "stdout",
     "output_type": "stream",
     "text": [
      "Found existing installation: ultralytics 8.1.24\n",
      "Uninstalling ultralytics-8.1.24:\n",
      "  Successfully uninstalled ultralytics-8.1.24\n",
      "\u001b[33mWARNING: Running pip as the 'root' user can result in broken permissions and conflicting behaviour with the system package manager. It is recommended to use a virtual environment instead: https://pip.pypa.io/warnings/venv\u001b[0m\u001b[33m\n",
      "\u001b[0mFound existing installation: roboflow 1.1.23\n",
      "Uninstalling roboflow-1.1.23:\n",
      "  Successfully uninstalled roboflow-1.1.23\n",
      "\u001b[33mWARNING: Running pip as the 'root' user can result in broken permissions and conflicting behaviour with the system package manager. It is recommended to use a virtual environment instead: https://pip.pypa.io/warnings/venv\u001b[0m\u001b[33m\n",
      "\u001b[0mFound existing installation: wandb 0.16.4\n",
      "Uninstalling wandb-0.16.4:\n",
      "  Successfully uninstalled wandb-0.16.4\n",
      "\u001b[33mWARNING: Running pip as the 'root' user can result in broken permissions and conflicting behaviour with the system package manager. It is recommended to use a virtual environment instead: https://pip.pypa.io/warnings/venv\u001b[0m\u001b[33m\n",
      "\u001b[0mCollecting ultralytics\n",
      "  Using cached ultralytics-8.1.24-py3-none-any.whl (719 kB)\n",
      "Requirement already satisfied: py-cpuinfo in /usr/local/lib/python3.9/dist-packages (from ultralytics) (9.0.0)\n",
      "Requirement already satisfied: seaborn>=0.11.0 in /usr/local/lib/python3.9/dist-packages (from ultralytics) (0.12.0)\n",
      "Requirement already satisfied: torch>=1.8.0 in /usr/local/lib/python3.9/dist-packages (from ultralytics) (1.12.1+cu116)\n",
      "Requirement already satisfied: scipy>=1.4.1 in /usr/local/lib/python3.9/dist-packages (from ultralytics) (1.9.2)\n",
      "Requirement already satisfied: matplotlib>=3.3.0 in /usr/local/lib/python3.9/dist-packages (from ultralytics) (3.6.1)\n",
      "Requirement already satisfied: pandas>=1.1.4 in /usr/local/lib/python3.9/dist-packages (from ultralytics) (1.5.0)\n",
      "Requirement already satisfied: requests>=2.23.0 in /usr/local/lib/python3.9/dist-packages (from ultralytics) (2.28.2)\n",
      "Requirement already satisfied: psutil in /usr/local/lib/python3.9/dist-packages (from ultralytics) (5.9.4)\n",
      "Requirement already satisfied: thop>=0.1.1 in /usr/local/lib/python3.9/dist-packages (from ultralytics) (0.1.1.post2209072238)\n",
      "Requirement already satisfied: pyyaml>=5.3.1 in /usr/local/lib/python3.9/dist-packages (from ultralytics) (5.4.1)\n",
      "Requirement already satisfied: opencv-python>=4.6.0 in /usr/local/lib/python3.9/dist-packages (from ultralytics) (4.6.0.66)\n",
      "Requirement already satisfied: pillow>=7.1.2 in /usr/local/lib/python3.9/dist-packages (from ultralytics) (9.2.0)\n",
      "Requirement already satisfied: torchvision>=0.9.0 in /usr/local/lib/python3.9/dist-packages (from ultralytics) (0.13.1+cu116)\n",
      "Requirement already satisfied: tqdm>=4.64.0 in /usr/local/lib/python3.9/dist-packages (from ultralytics) (4.64.1)\n",
      "Requirement already satisfied: packaging>=20.0 in /usr/local/lib/python3.9/dist-packages (from matplotlib>=3.3.0->ultralytics) (23.0)\n",
      "Requirement already satisfied: kiwisolver>=1.0.1 in /usr/local/lib/python3.9/dist-packages (from matplotlib>=3.3.0->ultralytics) (1.4.4)\n",
      "Requirement already satisfied: numpy>=1.19 in /usr/local/lib/python3.9/dist-packages (from matplotlib>=3.3.0->ultralytics) (1.23.4)\n",
      "Requirement already satisfied: fonttools>=4.22.0 in /usr/local/lib/python3.9/dist-packages (from matplotlib>=3.3.0->ultralytics) (4.38.0)\n",
      "Requirement already satisfied: cycler>=0.10 in /usr/local/lib/python3.9/dist-packages (from matplotlib>=3.3.0->ultralytics) (0.10.0)\n",
      "Requirement already satisfied: pyparsing>=2.2.1 in /usr/local/lib/python3.9/dist-packages (from matplotlib>=3.3.0->ultralytics) (3.0.9)\n",
      "Requirement already satisfied: python-dateutil>=2.7 in /usr/local/lib/python3.9/dist-packages (from matplotlib>=3.3.0->ultralytics) (2.8.2)\n",
      "Requirement already satisfied: contourpy>=1.0.1 in /usr/local/lib/python3.9/dist-packages (from matplotlib>=3.3.0->ultralytics) (1.0.7)\n",
      "Requirement already satisfied: pytz>=2020.1 in /usr/local/lib/python3.9/dist-packages (from pandas>=1.1.4->ultralytics) (2022.7.1)\n",
      "Requirement already satisfied: idna<4,>=2.5 in /usr/local/lib/python3.9/dist-packages (from requests>=2.23.0->ultralytics) (2.10)\n",
      "Requirement already satisfied: urllib3<1.27,>=1.21.1 in /usr/local/lib/python3.9/dist-packages (from requests>=2.23.0->ultralytics) (1.26.14)\n",
      "Requirement already satisfied: certifi>=2017.4.17 in /usr/local/lib/python3.9/dist-packages (from requests>=2.23.0->ultralytics) (2023.7.22)\n",
      "Requirement already satisfied: charset-normalizer<4,>=2 in /usr/local/lib/python3.9/dist-packages (from requests>=2.23.0->ultralytics) (2.1.1)\n",
      "Requirement already satisfied: typing-extensions in /usr/local/lib/python3.9/dist-packages (from torch>=1.8.0->ultralytics) (4.4.0)\n",
      "Requirement already satisfied: six in /usr/lib/python3/dist-packages (from cycler>=0.10->matplotlib>=3.3.0->ultralytics) (1.14.0)\n",
      "Installing collected packages: ultralytics\n",
      "Successfully installed ultralytics-8.1.24\n",
      "\u001b[33mWARNING: Running pip as the 'root' user can result in broken permissions and conflicting behaviour with the system package manager. It is recommended to use a virtual environment instead: https://pip.pypa.io/warnings/venv\u001b[0m\u001b[33m\n",
      "\u001b[0mCollecting roboflow\n",
      "  Using cached roboflow-1.1.23-py3-none-any.whl (71 kB)\n",
      "Requirement already satisfied: cycler==0.10.0 in /usr/local/lib/python3.9/dist-packages (from roboflow) (0.10.0)\n",
      "Requirement already satisfied: python-dotenv in /usr/local/lib/python3.9/dist-packages (from roboflow) (1.0.1)\n",
      "Requirement already satisfied: PyYAML>=5.3.1 in /usr/local/lib/python3.9/dist-packages (from roboflow) (5.4.1)\n",
      "Requirement already satisfied: kiwisolver>=1.3.1 in /usr/local/lib/python3.9/dist-packages (from roboflow) (1.4.4)\n",
      "Requirement already satisfied: Pillow>=7.1.2 in /usr/local/lib/python3.9/dist-packages (from roboflow) (9.2.0)\n",
      "Requirement already satisfied: requests-toolbelt in /usr/local/lib/python3.9/dist-packages (from roboflow) (0.10.1)\n",
      "Requirement already satisfied: tqdm>=4.41.0 in /usr/local/lib/python3.9/dist-packages (from roboflow) (4.64.1)\n",
      "Requirement already satisfied: chardet==4.0.0 in /usr/local/lib/python3.9/dist-packages (from roboflow) (4.0.0)\n",
      "Requirement already satisfied: urllib3>=1.26.6 in /usr/local/lib/python3.9/dist-packages (from roboflow) (1.26.14)\n",
      "Requirement already satisfied: idna==2.10 in /usr/local/lib/python3.9/dist-packages (from roboflow) (2.10)\n",
      "Requirement already satisfied: matplotlib in /usr/local/lib/python3.9/dist-packages (from roboflow) (3.6.1)\n",
      "Requirement already satisfied: python-magic in /usr/local/lib/python3.9/dist-packages (from roboflow) (0.4.27)\n",
      "Requirement already satisfied: requests in /usr/local/lib/python3.9/dist-packages (from roboflow) (2.28.2)\n",
      "Requirement already satisfied: certifi==2023.7.22 in /usr/local/lib/python3.9/dist-packages (from roboflow) (2023.7.22)\n",
      "Requirement already satisfied: six in /usr/lib/python3/dist-packages (from roboflow) (1.14.0)\n",
      "Requirement already satisfied: python-dateutil in /usr/local/lib/python3.9/dist-packages (from roboflow) (2.8.2)\n",
      "Requirement already satisfied: numpy>=1.18.5 in /usr/local/lib/python3.9/dist-packages (from roboflow) (1.23.4)\n",
      "Requirement already satisfied: opencv-python-headless==4.8.0.74 in /usr/local/lib/python3.9/dist-packages (from roboflow) (4.8.0.74)\n",
      "Requirement already satisfied: packaging>=20.0 in /usr/local/lib/python3.9/dist-packages (from matplotlib->roboflow) (23.0)\n",
      "Requirement already satisfied: pyparsing>=2.2.1 in /usr/local/lib/python3.9/dist-packages (from matplotlib->roboflow) (3.0.9)\n",
      "Requirement already satisfied: contourpy>=1.0.1 in /usr/local/lib/python3.9/dist-packages (from matplotlib->roboflow) (1.0.7)\n",
      "Requirement already satisfied: fonttools>=4.22.0 in /usr/local/lib/python3.9/dist-packages (from matplotlib->roboflow) (4.38.0)\n",
      "Requirement already satisfied: charset-normalizer<4,>=2 in /usr/local/lib/python3.9/dist-packages (from requests->roboflow) (2.1.1)\n",
      "Installing collected packages: roboflow\n",
      "Successfully installed roboflow-1.1.23\n",
      "\u001b[33mWARNING: Running pip as the 'root' user can result in broken permissions and conflicting behaviour with the system package manager. It is recommended to use a virtual environment instead: https://pip.pypa.io/warnings/venv\u001b[0m\u001b[33m\n",
      "\u001b[0mCollecting wandb\n",
      "  Using cached wandb-0.16.4-py3-none-any.whl (2.2 MB)\n",
      "Requirement already satisfied: GitPython!=3.1.29,>=1.0.0 in /usr/local/lib/python3.9/dist-packages (from wandb) (3.1.30)\n",
      "Requirement already satisfied: requests<3,>=2.0.0 in /usr/local/lib/python3.9/dist-packages (from wandb) (2.28.2)\n",
      "Requirement already satisfied: Click!=8.0.0,>=7.1 in /usr/local/lib/python3.9/dist-packages (from wandb) (8.1.3)\n",
      "Requirement already satisfied: setuptools in /usr/local/lib/python3.9/dist-packages (from wandb) (66.1.1)\n",
      "Requirement already satisfied: appdirs>=1.4.3 in /usr/local/lib/python3.9/dist-packages (from wandb) (1.4.4)\n",
      "Requirement already satisfied: sentry-sdk>=1.0.0 in /usr/local/lib/python3.9/dist-packages (from wandb) (1.14.0)\n",
      "Requirement already satisfied: docker-pycreds>=0.4.0 in /usr/local/lib/python3.9/dist-packages (from wandb) (0.4.0)\n",
      "Requirement already satisfied: PyYAML in /usr/local/lib/python3.9/dist-packages (from wandb) (5.4.1)\n",
      "Requirement already satisfied: setproctitle in /usr/local/lib/python3.9/dist-packages (from wandb) (1.3.2)\n",
      "Requirement already satisfied: psutil>=5.0.0 in /usr/local/lib/python3.9/dist-packages (from wandb) (5.9.4)\n",
      "Requirement already satisfied: typing-extensions in /usr/local/lib/python3.9/dist-packages (from wandb) (4.4.0)\n",
      "Requirement already satisfied: protobuf!=4.21.0,<5,>=3.15.0 in /usr/local/lib/python3.9/dist-packages (from wandb) (3.19.6)\n",
      "Requirement already satisfied: six>=1.4.0 in /usr/lib/python3/dist-packages (from docker-pycreds>=0.4.0->wandb) (1.14.0)\n",
      "Requirement already satisfied: gitdb<5,>=4.0.1 in /usr/local/lib/python3.9/dist-packages (from GitPython!=3.1.29,>=1.0.0->wandb) (4.0.10)\n",
      "Requirement already satisfied: charset-normalizer<4,>=2 in /usr/local/lib/python3.9/dist-packages (from requests<3,>=2.0.0->wandb) (2.1.1)\n",
      "Requirement already satisfied: idna<4,>=2.5 in /usr/local/lib/python3.9/dist-packages (from requests<3,>=2.0.0->wandb) (2.10)\n",
      "Requirement already satisfied: urllib3<1.27,>=1.21.1 in /usr/local/lib/python3.9/dist-packages (from requests<3,>=2.0.0->wandb) (1.26.14)\n",
      "Requirement already satisfied: certifi>=2017.4.17 in /usr/local/lib/python3.9/dist-packages (from requests<3,>=2.0.0->wandb) (2023.7.22)\n",
      "Requirement already satisfied: smmap<6,>=3.0.1 in /usr/local/lib/python3.9/dist-packages (from gitdb<5,>=4.0.1->GitPython!=3.1.29,>=1.0.0->wandb) (5.0.0)\n",
      "Installing collected packages: wandb\n",
      "Successfully installed wandb-0.16.4\n",
      "\u001b[33mWARNING: Running pip as the 'root' user can result in broken permissions and conflicting behaviour with the system package manager. It is recommended to use a virtual environment instead: https://pip.pypa.io/warnings/venv\u001b[0m\u001b[33m\n",
      "\u001b[0m"
     ]
    }
   ],
   "source": [
    "# Reinstalling Libraries\n",
    "!pip uninstall ultralytics -y\n",
    "!pip uninstall roboflow -y\n",
    "!pip uninstall wandb -y\n",
    "\n",
    "!pip install ultralytics\n",
    "!pip install roboflow\n",
    "!pip install wandb\n"
   ]
  },
  {
   "cell_type": "code",
   "execution_count": 1,
   "metadata": {
    "execution": {
     "iopub.execute_input": "2024-03-09T16:25:36.030087Z",
     "iopub.status.busy": "2024-03-09T16:25:36.029431Z",
     "iopub.status.idle": "2024-03-09T16:25:38.376637Z",
     "shell.execute_reply": "2024-03-09T16:25:38.376042Z",
     "shell.execute_reply.started": "2024-03-09T16:25:36.030059Z"
    },
    "id": "9yPAH8N6_mc6"
   },
   "outputs": [],
   "source": [
    "# Importing libraries\n",
    "import os\n",
    "from IPython.display import display, Image\n",
    "from IPython import display\n",
    "from ultralytics import YOLO\n",
    "import wandb\n",
    "import random"
   ]
  },
  {
   "cell_type": "code",
   "execution_count": 2,
   "metadata": {
    "execution": {
     "iopub.execute_input": "2024-03-09T14:45:55.120792Z",
     "iopub.status.busy": "2024-03-09T14:45:55.119830Z",
     "iopub.status.idle": "2024-03-09T14:45:55.709983Z",
     "shell.execute_reply": "2024-03-09T14:45:55.709180Z",
     "shell.execute_reply.started": "2024-03-09T14:45:55.120757Z"
    }
   },
   "outputs": [
    {
     "name": "stdout",
     "output_type": "stream",
     "text": [
      "/notebooks\n"
     ]
    }
   ],
   "source": [
    "!pwd"
   ]
  },
  {
   "cell_type": "code",
   "execution_count": 2,
   "metadata": {
    "colab": {
     "base_uri": "https://localhost:8080/"
    },
    "execution": {
     "iopub.execute_input": "2024-03-09T16:25:40.998450Z",
     "iopub.status.busy": "2024-03-09T16:25:40.997997Z",
     "iopub.status.idle": "2024-03-09T16:25:47.213978Z",
     "shell.execute_reply": "2024-03-09T16:25:47.213177Z",
     "shell.execute_reply.started": "2024-03-09T16:25:40.998450Z"
    },
    "executionInfo": {
     "elapsed": 6025,
     "status": "ok",
     "timestamp": 1709840135241,
     "user": {
      "displayName": "Aman Anand",
      "userId": "10574522030686137715"
     },
     "user_tz": -330
    },
    "id": "B2baQcxw_q20",
    "outputId": "0fd879b5-902f-411e-9dcc-b3eacd210be0"
   },
   "outputs": [
    {
     "name": "stdout",
     "output_type": "stream",
     "text": [
      "Ultralytics YOLOv8.1.24 🚀 Python-3.9.16 torch-1.12.1+cu116 CUDA:0 (NVIDIA RTX A4000, 16109MiB)\n",
      "Setup complete ✅ (8 CPUs, 44.1 GB RAM, 141.8/244.2 GB disk)\n",
      "\n",
      "OS                  Linux-5.19.0-45-generic-x86_64-with-glibc2.31\n",
      "Environment         Docker\n",
      "Python              3.9.16\n",
      "Install             pip\n",
      "RAM                 44.08 GB\n",
      "CPU                 Intel Xeon Gold 5315Y 3.20GHz\n",
      "CUDA                11.6\n",
      "\n",
      "matplotlib          ✅ 3.6.1>=3.3.0\n",
      "opencv-python       ✅ 4.6.0.66>=4.6.0\n",
      "pillow              ✅ 9.2.0>=7.1.2\n",
      "pyyaml              ✅ 5.4.1>=5.3.1\n",
      "requests            ✅ 2.28.2>=2.23.0\n",
      "scipy               ✅ 1.9.2>=1.4.1\n",
      "torch               ✅ 1.12.1+cu116>=1.8.0\n",
      "torchvision         ✅ 0.13.1+cu116>=0.9.0\n",
      "tqdm                ✅ 4.64.1>=4.64.0\n",
      "psutil              ✅ 5.9.4\n",
      "py-cpuinfo          ✅ 9.0.0\n",
      "thop                ✅ 0.1.1-2209072238>=0.1.1\n",
      "pandas              ✅ 1.5.0>=1.1.4\n",
      "seaborn             ✅ 0.12.0>=0.11.0\n",
      "\u001b[34m\u001b[1mwandb\u001b[0m: Appending key for api.wandb.ai to your netrc file: /root/.netrc\n"
     ]
    }
   ],
   "source": [
    "# Checking the env and logging into wandb\n",
    "display.clear_output()\n",
    "!yolo checks\n",
    "!wandb login --relogin \"2643de84785eb3756d52778c88dbffe263c3eb00\""
   ]
  },
  {
   "cell_type": "code",
   "execution_count": 3,
   "metadata": {
    "execution": {
     "iopub.execute_input": "2024-03-09T16:25:47.215441Z",
     "iopub.status.busy": "2024-03-09T16:25:47.215237Z",
     "iopub.status.idle": "2024-03-09T16:25:56.151525Z",
     "shell.execute_reply": "2024-03-09T16:25:56.150874Z",
     "shell.execute_reply.started": "2024-03-09T16:25:47.215421Z"
    }
   },
   "outputs": [
    {
     "name": "stderr",
     "output_type": "stream",
     "text": [
      "\u001b[34m\u001b[1mwandb\u001b[0m: Currently logged in as: \u001b[33mamananand97\u001b[0m. Use \u001b[1m`wandb login --relogin`\u001b[0m to force relogin\n"
     ]
    },
    {
     "data": {
      "text/html": [
       "Tracking run with wandb version 0.16.4"
      ],
      "text/plain": [
       "<IPython.core.display.HTML object>"
      ]
     },
     "metadata": {},
     "output_type": "display_data"
    },
    {
     "data": {
      "text/html": [
       "Run data is saved locally in <code>/notebooks/wandb/run-20240309_162548-f1cjzexo</code>"
      ],
      "text/plain": [
       "<IPython.core.display.HTML object>"
      ]
     },
     "metadata": {},
     "output_type": "display_data"
    },
    {
     "data": {
      "text/html": [
       "Syncing run <strong><a href='https://wandb.ai/amananand97/BH_task/runs/f1cjzexo' target=\"_blank\">colorful-tree-9</a></strong> to <a href='https://wandb.ai/amananand97/BH_task' target=\"_blank\">Weights & Biases</a> (<a href='https://wandb.me/run' target=\"_blank\">docs</a>)<br/>"
      ],
      "text/plain": [
       "<IPython.core.display.HTML object>"
      ]
     },
     "metadata": {},
     "output_type": "display_data"
    },
    {
     "data": {
      "text/html": [
       " View project at <a href='https://wandb.ai/amananand97/BH_task' target=\"_blank\">https://wandb.ai/amananand97/BH_task</a>"
      ],
      "text/plain": [
       "<IPython.core.display.HTML object>"
      ]
     },
     "metadata": {},
     "output_type": "display_data"
    },
    {
     "data": {
      "text/html": [
       " View run at <a href='https://wandb.ai/amananand97/BH_task/runs/f1cjzexo' target=\"_blank\">https://wandb.ai/amananand97/BH_task/runs/f1cjzexo</a>"
      ],
      "text/plain": [
       "<IPython.core.display.HTML object>"
      ]
     },
     "metadata": {},
     "output_type": "display_data"
    },
    {
     "data": {
      "application/vnd.jupyter.widget-view+json": {
       "model_id": "40acf515dfe0427088b5608d536f9a73",
       "version_major": 2,
       "version_minor": 0
      },
      "text/plain": [
       "VBox(children=(Label(value='38.121 MB of 38.121 MB uploaded (38.085 MB deduped)\\r'), FloatProgress(value=1.0, …"
      ]
     },
     "metadata": {},
     "output_type": "display_data"
    },
    {
     "data": {
      "text/html": [
       "W&B sync reduced upload amount by 99.9%             "
      ],
      "text/plain": [
       "<IPython.core.display.HTML object>"
      ]
     },
     "metadata": {},
     "output_type": "display_data"
    },
    {
     "data": {
      "text/html": [
       "<style>\n",
       "    table.wandb td:nth-child(1) { padding: 0 10px; text-align: left ; width: auto;} td:nth-child(2) {text-align: left ; width: 100%}\n",
       "    .wandb-row { display: flex; flex-direction: row; flex-wrap: wrap; justify-content: flex-start; width: 100% }\n",
       "    .wandb-col { display: flex; flex-direction: column; flex-basis: 100%; flex: 1; padding: 10px; }\n",
       "    </style>\n",
       "<div class=\"wandb-row\"><div class=\"wandb-col\"><h3>Run history:</h3><br/><table class=\"wandb\"><tr><td>acc</td><td>▂▁▆▆▅▇▇▆▇▇███▇█▇███████▇████████████████</td></tr><tr><td>loss</td><td>█▄▄▃▂▁▂▂▁▁▁▁▁▁▁▁▁▁▁▁▁▁▁▁▁▁▁▁▁▁▁▁▁▁▁▁▁▁▁▁</td></tr></table><br/></div><div class=\"wandb-col\"><h3>Run summary:</h3><br/><table class=\"wandb\"><tr><td>acc</td><td>0.96615</td></tr><tr><td>loss</td><td>0.04997</td></tr></table><br/></div></div>"
      ],
      "text/plain": [
       "<IPython.core.display.HTML object>"
      ]
     },
     "metadata": {},
     "output_type": "display_data"
    },
    {
     "data": {
      "text/html": [
       " View run <strong style=\"color:#cdcd00\">colorful-tree-9</strong> at: <a href='https://wandb.ai/amananand97/BH_task/runs/f1cjzexo' target=\"_blank\">https://wandb.ai/amananand97/BH_task/runs/f1cjzexo</a><br/> View job at <a href='https://wandb.ai/amananand97/BH_task/jobs/QXJ0aWZhY3RDb2xsZWN0aW9uOjE0NzE1NzAwNg==/version_details/v0' target=\"_blank\">https://wandb.ai/amananand97/BH_task/jobs/QXJ0aWZhY3RDb2xsZWN0aW9uOjE0NzE1NzAwNg==/version_details/v0</a><br/>Synced 5 W&B file(s), 0 media file(s), 2 artifact file(s) and 1 other file(s)"
      ],
      "text/plain": [
       "<IPython.core.display.HTML object>"
      ]
     },
     "metadata": {},
     "output_type": "display_data"
    },
    {
     "data": {
      "text/html": [
       "Find logs at: <code>./wandb/run-20240309_162548-f1cjzexo/logs</code>"
      ],
      "text/plain": [
       "<IPython.core.display.HTML object>"
      ]
     },
     "metadata": {},
     "output_type": "display_data"
    }
   ],
   "source": [
    "# Start a new wandb run to track\n",
    "wandb.init(\n",
    "    # Set the wandb project where this run will be logged\n",
    "    project=\"BH_task\",\n",
    "\n",
    "    # Track hyperparameters and run metadata\n",
    "    config={\n",
    "        \"task\": \"detect\",\n",
    "        \"mode\": \"train\",\n",
    "        \"model\": \"yolov8s.pt\",\n",
    "        \"data\": \"/notebooks/data/data.yaml\",\n",
    "        \"epochs\": 50,\n",
    "        \"imgsz\": 640,\n",
    "        \"device\": 0\n",
    "    }\n",
    ")\n",
    "\n",
    "# Simulate training\n",
    "epochs = 50\n",
    "offset = random.random() / 5\n",
    "for epoch in range(2, epochs):\n",
    "    acc = 1 - 2 ** -epoch - random.random() / epoch - offset\n",
    "    loss = 2 ** -epoch + random.random() / epoch + offset\n",
    "\n",
    "    # Log metrics to wandb\n",
    "    wandb.log({\"acc\": acc, \"loss\": loss})\n",
    "\n",
    "# [Optional] Finish the wandb run, necessary in notebooks\n",
    "wandb.finish()\n"
   ]
  },
  {
   "cell_type": "code",
   "execution_count": 5,
   "metadata": {
    "colab": {
     "base_uri": "https://localhost:8080/"
    },
    "execution": {
     "iopub.execute_input": "2024-03-09T16:22:45.721801Z",
     "iopub.status.busy": "2024-03-09T16:22:45.721161Z",
     "iopub.status.idle": "2024-03-09T16:23:22.981595Z",
     "shell.execute_reply": "2024-03-09T16:23:22.981117Z",
     "shell.execute_reply.started": "2024-03-09T16:22:45.721771Z"
    },
    "executionInfo": {
     "elapsed": 5563,
     "status": "ok",
     "timestamp": 1709839068551,
     "user": {
      "displayName": "Aman Anand",
      "userId": "10574522030686137715"
     },
     "user_tz": -330
    },
    "id": "LJoJm5zI_s4N",
    "outputId": "3e2db299-fcfd-47d0-acd3-ad145d6f4cfb"
   },
   "outputs": [
    {
     "name": "stdout",
     "output_type": "stream",
     "text": [
      "loading Roboflow workspace...\n",
      "loading Roboflow project...\n"
     ]
    },
    {
     "name": "stderr",
     "output_type": "stream",
     "text": [
      "Downloading Dataset Version Zip in cad-drawings-2 to yolov8-obb:: 100%|██████████| 282019/282019 [00:33<00:00, 8525.85it/s] "
     ]
    },
    {
     "name": "stdout",
     "output_type": "stream",
     "text": [
      "\n"
     ]
    },
    {
     "name": "stderr",
     "output_type": "stream",
     "text": [
      "\n",
      "Extracting Dataset Version Zip to cad-drawings-2 in yolov8-obb:: 100%|██████████| 12264/12264 [00:02<00:00, 5370.43it/s]\n"
     ]
    }
   ],
   "source": [
    "from roboflow import Roboflow\n",
    "\n",
    "rf = Roboflow(api_key=\"SqXwZ9H1RIAYVwrE117l\")\n",
    "project = rf.workspace(\"train-yu3wc\").project(\"cad-drawings\")\n",
    "version = project.version(2)\n",
    "dataset = version.download(\"yolov8-obb\")"
   ]
  },
  {
   "cell_type": "code",
   "execution_count": 5,
   "metadata": {
    "execution": {
     "iopub.execute_input": "2024-03-09T16:27:09.978569Z",
     "iopub.status.busy": "2024-03-09T16:27:09.978290Z",
     "iopub.status.idle": "2024-03-09T16:41:22.535588Z",
     "shell.execute_reply": "2024-03-09T16:41:22.534845Z",
     "shell.execute_reply.started": "2024-03-09T16:27:09.978548Z"
    }
   },
   "outputs": [
    {
     "name": "stdout",
     "output_type": "stream",
     "text": [
      "Ultralytics YOLOv8.1.24 🚀 Python-3.9.16 torch-1.12.1+cu116 CUDA:0 (NVIDIA RTX A4000, 16109MiB)\n",
      "WARNING ⚠️ Upgrade to torch>=2.0.0 for deterministic training.\n",
      "\u001b[34m\u001b[1mengine/trainer: \u001b[0mtask=detect, mode=train, model=yolov8s.pt, data=dataset/data.yaml, epochs=50, time=None, patience=100, batch=16, imgsz=640, save=True, save_period=-1, cache=False, device=None, workers=8, project=None, name=train16, exist_ok=False, pretrained=True, optimizer=auto, verbose=True, seed=0, deterministic=True, single_cls=False, rect=False, cos_lr=False, close_mosaic=10, resume=False, amp=True, fraction=1.0, profile=False, freeze=None, multi_scale=False, overlap_mask=True, mask_ratio=4, dropout=0.0, val=True, split=val, save_json=False, save_hybrid=False, conf=0.5, iou=0.7, max_det=300, half=False, dnn=False, plots=True, source=None, vid_stride=1, stream_buffer=False, visualize=False, augment=False, agnostic_nms=False, classes=None, retina_masks=False, embed=None, show=False, save_frames=False, save_txt=False, save_conf=False, save_crop=False, show_labels=True, show_conf=True, show_boxes=True, line_width=None, format=torchscript, keras=False, optimize=False, int8=False, dynamic=False, simplify=False, opset=None, workspace=4, nms=False, lr0=0.01, lrf=0.01, momentum=0.937, weight_decay=0.0005, warmup_epochs=3.0, warmup_momentum=0.8, warmup_bias_lr=0.1, box=7.5, cls=0.5, dfl=1.5, pose=12.0, kobj=1.0, label_smoothing=0.0, nbs=64, hsv_h=0.015, hsv_s=0.7, hsv_v=0.4, degrees=0.0, translate=0.1, scale=0.5, shear=0.0, perspective=0.0, flipud=0.0, fliplr=0.5, mosaic=1.0, mixup=0.0, copy_paste=0.0, auto_augment=randaugment, erasing=0.4, crop_fraction=1.0, cfg=None, tracker=botsort.yaml, save_dir=runs/detect/train16\n",
      "Overriding model.yaml nc=80 with nc=3\n",
      "\n",
      "                   from  n    params  module                                       arguments                     \n",
      "  0                  -1  1       928  ultralytics.nn.modules.conv.Conv             [3, 32, 3, 2]                 \n",
      "  1                  -1  1     18560  ultralytics.nn.modules.conv.Conv             [32, 64, 3, 2]                \n",
      "  2                  -1  1     29056  ultralytics.nn.modules.block.C2f             [64, 64, 1, True]             \n",
      "  3                  -1  1     73984  ultralytics.nn.modules.conv.Conv             [64, 128, 3, 2]               \n",
      "  4                  -1  2    197632  ultralytics.nn.modules.block.C2f             [128, 128, 2, True]           \n",
      "  5                  -1  1    295424  ultralytics.nn.modules.conv.Conv             [128, 256, 3, 2]              \n",
      "  6                  -1  2    788480  ultralytics.nn.modules.block.C2f             [256, 256, 2, True]           \n",
      "  7                  -1  1   1180672  ultralytics.nn.modules.conv.Conv             [256, 512, 3, 2]              \n",
      "  8                  -1  1   1838080  ultralytics.nn.modules.block.C2f             [512, 512, 1, True]           \n",
      "  9                  -1  1    656896  ultralytics.nn.modules.block.SPPF            [512, 512, 5]                 \n",
      " 10                  -1  1         0  torch.nn.modules.upsampling.Upsample         [None, 2, 'nearest']          \n",
      " 11             [-1, 6]  1         0  ultralytics.nn.modules.conv.Concat           [1]                           \n",
      " 12                  -1  1    591360  ultralytics.nn.modules.block.C2f             [768, 256, 1]                 \n",
      " 13                  -1  1         0  torch.nn.modules.upsampling.Upsample         [None, 2, 'nearest']          \n",
      " 14             [-1, 4]  1         0  ultralytics.nn.modules.conv.Concat           [1]                           \n",
      " 15                  -1  1    148224  ultralytics.nn.modules.block.C2f             [384, 128, 1]                 \n",
      " 16                  -1  1    147712  ultralytics.nn.modules.conv.Conv             [128, 128, 3, 2]              \n",
      " 17            [-1, 12]  1         0  ultralytics.nn.modules.conv.Concat           [1]                           \n",
      " 18                  -1  1    493056  ultralytics.nn.modules.block.C2f             [384, 256, 1]                 \n",
      " 19                  -1  1    590336  ultralytics.nn.modules.conv.Conv             [256, 256, 3, 2]              \n",
      " 20             [-1, 9]  1         0  ultralytics.nn.modules.conv.Concat           [1]                           \n",
      " 21                  -1  1   1969152  ultralytics.nn.modules.block.C2f             [768, 512, 1]                 \n",
      " 22        [15, 18, 21]  1   2117209  ultralytics.nn.modules.head.Detect           [3, [128, 256, 512]]          \n",
      "Model summary: 225 layers, 11136761 parameters, 11136745 gradients, 28.7 GFLOPs\n",
      "\n",
      "Transferred 349/355 items from pretrained weights\n",
      "\u001b[34m\u001b[1mTensorBoard: \u001b[0mStart with 'tensorboard --logdir runs/detect/train16', view at http://localhost:6006/\n"
     ]
    },
    {
     "data": {
      "text/html": [
       "Tracking run with wandb version 0.16.4"
      ],
      "text/plain": [
       "<IPython.core.display.HTML object>"
      ]
     },
     "metadata": {},
     "output_type": "display_data"
    },
    {
     "data": {
      "text/html": [
       "Run data is saved locally in <code>/notebooks/wandb/run-20240309_162714-c4hffavu</code>"
      ],
      "text/plain": [
       "<IPython.core.display.HTML object>"
      ]
     },
     "metadata": {},
     "output_type": "display_data"
    },
    {
     "data": {
      "text/html": [
       "Syncing run <strong><a href='https://wandb.ai/amananand97/YOLOv8/runs/c4hffavu' target=\"_blank\">train16</a></strong> to <a href='https://wandb.ai/amananand97/YOLOv8' target=\"_blank\">Weights & Biases</a> (<a href='https://wandb.me/run' target=\"_blank\">docs</a>)<br/>"
      ],
      "text/plain": [
       "<IPython.core.display.HTML object>"
      ]
     },
     "metadata": {},
     "output_type": "display_data"
    },
    {
     "data": {
      "text/html": [
       " View project at <a href='https://wandb.ai/amananand97/YOLOv8' target=\"_blank\">https://wandb.ai/amananand97/YOLOv8</a>"
      ],
      "text/plain": [
       "<IPython.core.display.HTML object>"
      ]
     },
     "metadata": {},
     "output_type": "display_data"
    },
    {
     "data": {
      "text/html": [
       " View run at <a href='https://wandb.ai/amananand97/YOLOv8/runs/c4hffavu' target=\"_blank\">https://wandb.ai/amananand97/YOLOv8/runs/c4hffavu</a>"
      ],
      "text/plain": [
       "<IPython.core.display.HTML object>"
      ]
     },
     "metadata": {},
     "output_type": "display_data"
    },
    {
     "name": "stdout",
     "output_type": "stream",
     "text": [
      "Freezing layer 'model.22.dfl.conv.weight'\n",
      "\u001b[34m\u001b[1mAMP: \u001b[0mrunning Automatic Mixed Precision (AMP) checks with YOLOv8n...\n",
      "\u001b[34m\u001b[1mAMP: \u001b[0mchecks passed ✅\n"
     ]
    },
    {
     "name": "stderr",
     "output_type": "stream",
     "text": [
      "\u001b[34m\u001b[1mtrain: \u001b[0mScanning /notebooks/dataset/valid/labels... 517 images, 0 backgrounds, 0 corrupt: 100%|██████████| 517/517 [00:00<00:00, 678.69it/s]"
     ]
    },
    {
     "name": "stdout",
     "output_type": "stream",
     "text": [
      "\u001b[34m\u001b[1mtrain: \u001b[0mNew cache created: /notebooks/dataset/valid/labels.cache\n"
     ]
    },
    {
     "name": "stderr",
     "output_type": "stream",
     "text": [
      "\n",
      "\u001b[34m\u001b[1mval: \u001b[0mScanning /notebooks/dataset/valid/labels.cache... 517 images, 0 backgrounds, 0 corrupt: 100%|██████████| 517/517 [00:00<?, ?it/s]\n"
     ]
    },
    {
     "name": "stdout",
     "output_type": "stream",
     "text": [
      "Plotting labels to runs/detect/train16/labels.jpg... \n",
      "\n",
      "\u001b[34m\u001b[1moptimizer:\u001b[0m 'optimizer=auto' found, ignoring 'lr0=0.01' and 'momentum=0.937' and determining best 'optimizer', 'lr0' and 'momentum' automatically... \n",
      "\u001b[34m\u001b[1moptimizer:\u001b[0m AdamW(lr=0.001429, momentum=0.9) with parameter groups 57 weight(decay=0.0), 64 weight(decay=0.0005), 63 bias(decay=0.0)\n",
      "\u001b[34m\u001b[1mTensorBoard: \u001b[0mmodel graph visualization added ✅\n",
      "Image sizes 640 train, 640 val\n",
      "Using 8 dataloader workers\n",
      "Logging results to \u001b[1mruns/detect/train16\u001b[0m\n",
      "Starting training for 50 epochs...\n",
      "\n",
      "      Epoch    GPU_mem   box_loss   cls_loss   dfl_loss  Instances       Size\n"
     ]
    },
    {
     "name": "stderr",
     "output_type": "stream",
     "text": [
      "       1/50      4.33G      1.578      2.242      1.386        195        640: 100%|██████████| 33/33 [00:23<00:00,  1.42it/s]\n",
      "                 Class     Images  Instances      Box(P          R      mAP50  mAP50-95): 100%|██████████| 17/17 [00:02<00:00,  6.19it/s]"
     ]
    },
    {
     "name": "stdout",
     "output_type": "stream",
     "text": [
      "                   all        517      14431      0.672      0.659      0.681      0.436\n"
     ]
    },
    {
     "name": "stderr",
     "output_type": "stream",
     "text": [
      "\n"
     ]
    },
    {
     "name": "stdout",
     "output_type": "stream",
     "text": [
      "\n",
      "      Epoch    GPU_mem   box_loss   cls_loss   dfl_loss  Instances       Size\n"
     ]
    },
    {
     "name": "stderr",
     "output_type": "stream",
     "text": [
      "       2/50      5.21G      1.217      1.128      1.156        220        640: 100%|██████████| 33/33 [00:11<00:00,  2.81it/s]\n",
      "                 Class     Images  Instances      Box(P          R      mAP50  mAP50-95): 100%|██████████| 17/17 [00:03<00:00,  5.16it/s]"
     ]
    },
    {
     "name": "stdout",
     "output_type": "stream",
     "text": [
      "                   all        517      14431      0.775      0.544      0.658      0.428\n"
     ]
    },
    {
     "name": "stderr",
     "output_type": "stream",
     "text": [
      "\n"
     ]
    },
    {
     "name": "stdout",
     "output_type": "stream",
     "text": [
      "\n",
      "      Epoch    GPU_mem   box_loss   cls_loss   dfl_loss  Instances       Size\n"
     ]
    },
    {
     "name": "stderr",
     "output_type": "stream",
     "text": [
      "       3/50      4.66G      1.198      1.044      1.143        225        640: 100%|██████████| 33/33 [00:12<00:00,  2.70it/s]\n",
      "                 Class     Images  Instances      Box(P          R      mAP50  mAP50-95): 100%|██████████| 17/17 [00:02<00:00,  5.70it/s]\n"
     ]
    },
    {
     "name": "stdout",
     "output_type": "stream",
     "text": [
      "                   all        517      14431      0.757      0.638      0.694      0.452\n",
      "\n",
      "      Epoch    GPU_mem   box_loss   cls_loss   dfl_loss  Instances       Size\n"
     ]
    },
    {
     "name": "stderr",
     "output_type": "stream",
     "text": [
      "       4/50         5G      1.158      1.003      1.133        204        640: 100%|██████████| 33/33 [00:12<00:00,  2.69it/s]\n",
      "                 Class     Images  Instances      Box(P          R      mAP50  mAP50-95): 100%|██████████| 17/17 [00:03<00:00,  5.42it/s]\n"
     ]
    },
    {
     "name": "stdout",
     "output_type": "stream",
     "text": [
      "                   all        517      14431      0.769      0.728      0.759      0.509\n",
      "\n",
      "      Epoch    GPU_mem   box_loss   cls_loss   dfl_loss  Instances       Size\n"
     ]
    },
    {
     "name": "stderr",
     "output_type": "stream",
     "text": [
      "       5/50      5.73G      1.119     0.9576       1.11        186        640: 100%|██████████| 33/33 [00:12<00:00,  2.72it/s]\n",
      "                 Class     Images  Instances      Box(P          R      mAP50  mAP50-95): 100%|██████████| 17/17 [00:03<00:00,  4.68it/s]"
     ]
    },
    {
     "name": "stdout",
     "output_type": "stream",
     "text": [
      "                   all        517      14431      0.774      0.769      0.793       0.54\n"
     ]
    },
    {
     "name": "stderr",
     "output_type": "stream",
     "text": [
      "\n"
     ]
    },
    {
     "name": "stdout",
     "output_type": "stream",
     "text": [
      "\n",
      "      Epoch    GPU_mem   box_loss   cls_loss   dfl_loss  Instances       Size\n"
     ]
    },
    {
     "name": "stderr",
     "output_type": "stream",
     "text": [
      "       6/50      4.86G      1.107     0.9032      1.108        177        640: 100%|██████████| 33/33 [00:12<00:00,  2.63it/s]\n",
      "                 Class     Images  Instances      Box(P          R      mAP50  mAP50-95): 100%|██████████| 17/17 [00:03<00:00,  5.51it/s]"
     ]
    },
    {
     "name": "stdout",
     "output_type": "stream",
     "text": [
      "                   all        517      14431      0.781      0.795      0.824      0.581\n"
     ]
    },
    {
     "name": "stderr",
     "output_type": "stream",
     "text": [
      "\n"
     ]
    },
    {
     "name": "stdout",
     "output_type": "stream",
     "text": [
      "\n",
      "      Epoch    GPU_mem   box_loss   cls_loss   dfl_loss  Instances       Size\n"
     ]
    },
    {
     "name": "stderr",
     "output_type": "stream",
     "text": [
      "       7/50      4.42G      1.098     0.8931      1.104        386        640: 100%|██████████| 33/33 [00:09<00:00,  3.39it/s]\n",
      "                 Class     Images  Instances      Box(P          R      mAP50  mAP50-95): 100%|██████████| 17/17 [00:04<00:00,  3.44it/s]"
     ]
    },
    {
     "name": "stdout",
     "output_type": "stream",
     "text": [
      "                   all        517      14431      0.845      0.758      0.812      0.588\n"
     ]
    },
    {
     "name": "stderr",
     "output_type": "stream",
     "text": [
      "\n"
     ]
    },
    {
     "name": "stdout",
     "output_type": "stream",
     "text": [
      "\n",
      "      Epoch    GPU_mem   box_loss   cls_loss   dfl_loss  Instances       Size\n"
     ]
    },
    {
     "name": "stderr",
     "output_type": "stream",
     "text": [
      "       8/50      5.14G       1.08     0.8818      1.087        172        640: 100%|██████████| 33/33 [00:12<00:00,  2.72it/s]\n",
      "                 Class     Images  Instances      Box(P          R      mAP50  mAP50-95): 100%|██████████| 17/17 [00:03<00:00,  5.02it/s]"
     ]
    },
    {
     "name": "stdout",
     "output_type": "stream",
     "text": [
      "                   all        517      14431      0.879      0.648      0.775      0.547\n"
     ]
    },
    {
     "name": "stderr",
     "output_type": "stream",
     "text": [
      "\n"
     ]
    },
    {
     "name": "stdout",
     "output_type": "stream",
     "text": [
      "\n",
      "      Epoch    GPU_mem   box_loss   cls_loss   dfl_loss  Instances       Size\n"
     ]
    },
    {
     "name": "stderr",
     "output_type": "stream",
     "text": [
      "       9/50      4.96G       1.06     0.8605      1.086        126        640: 100%|██████████| 33/33 [00:12<00:00,  2.70it/s]\n",
      "                 Class     Images  Instances      Box(P          R      mAP50  mAP50-95): 100%|██████████| 17/17 [00:03<00:00,  5.15it/s]"
     ]
    },
    {
     "name": "stdout",
     "output_type": "stream",
     "text": [
      "                   all        517      14431      0.855      0.755      0.822      0.575\n"
     ]
    },
    {
     "name": "stderr",
     "output_type": "stream",
     "text": [
      "\n"
     ]
    },
    {
     "name": "stdout",
     "output_type": "stream",
     "text": [
      "\n",
      "      Epoch    GPU_mem   box_loss   cls_loss   dfl_loss  Instances       Size\n"
     ]
    },
    {
     "name": "stderr",
     "output_type": "stream",
     "text": [
      "      10/50      5.05G      1.036     0.8428      1.077        178        640: 100%|██████████| 33/33 [00:12<00:00,  2.74it/s]\n",
      "                 Class     Images  Instances      Box(P          R      mAP50  mAP50-95): 100%|██████████| 17/17 [00:03<00:00,  4.45it/s]"
     ]
    },
    {
     "name": "stdout",
     "output_type": "stream",
     "text": [
      "                   all        517      14431       0.89       0.78      0.842      0.623\n"
     ]
    },
    {
     "name": "stderr",
     "output_type": "stream",
     "text": [
      "\n"
     ]
    },
    {
     "name": "stdout",
     "output_type": "stream",
     "text": [
      "\n",
      "      Epoch    GPU_mem   box_loss   cls_loss   dfl_loss  Instances       Size\n"
     ]
    },
    {
     "name": "stderr",
     "output_type": "stream",
     "text": [
      "      11/50      4.67G      1.021     0.8224      1.062        279        640: 100%|██████████| 33/33 [00:12<00:00,  2.55it/s]\n",
      "                 Class     Images  Instances      Box(P          R      mAP50  mAP50-95): 100%|██████████| 17/17 [00:03<00:00,  5.57it/s]\n"
     ]
    },
    {
     "name": "stdout",
     "output_type": "stream",
     "text": [
      "                   all        517      14431      0.853      0.785      0.838      0.602\n",
      "\n",
      "      Epoch    GPU_mem   box_loss   cls_loss   dfl_loss  Instances       Size\n"
     ]
    },
    {
     "name": "stderr",
     "output_type": "stream",
     "text": [
      "      12/50      4.88G      1.057     0.8279      1.081        182        640: 100%|██████████| 33/33 [00:11<00:00,  2.91it/s]\n",
      "                 Class     Images  Instances      Box(P          R      mAP50  mAP50-95): 100%|██████████| 17/17 [00:03<00:00,  4.71it/s]"
     ]
    },
    {
     "name": "stdout",
     "output_type": "stream",
     "text": [
      "                   all        517      14431      0.899      0.754      0.838      0.613\n"
     ]
    },
    {
     "name": "stderr",
     "output_type": "stream",
     "text": [
      "\n"
     ]
    },
    {
     "name": "stdout",
     "output_type": "stream",
     "text": [
      "\n",
      "      Epoch    GPU_mem   box_loss   cls_loss   dfl_loss  Instances       Size\n"
     ]
    },
    {
     "name": "stderr",
     "output_type": "stream",
     "text": [
      "      13/50      5.13G       1.03     0.8123      1.074        304        640: 100%|██████████| 33/33 [00:11<00:00,  2.82it/s]\n",
      "                 Class     Images  Instances      Box(P          R      mAP50  mAP50-95): 100%|██████████| 17/17 [00:03<00:00,  5.44it/s]"
     ]
    },
    {
     "name": "stdout",
     "output_type": "stream",
     "text": [
      "                   all        517      14431      0.872      0.777      0.841       0.62\n"
     ]
    },
    {
     "name": "stderr",
     "output_type": "stream",
     "text": [
      "\n"
     ]
    },
    {
     "name": "stdout",
     "output_type": "stream",
     "text": [
      "\n",
      "      Epoch    GPU_mem   box_loss   cls_loss   dfl_loss  Instances       Size\n"
     ]
    },
    {
     "name": "stderr",
     "output_type": "stream",
     "text": [
      "      14/50      5.71G      1.018     0.7821      1.054        208        640: 100%|██████████| 33/33 [00:11<00:00,  2.77it/s]\n",
      "                 Class     Images  Instances      Box(P          R      mAP50  mAP50-95): 100%|██████████| 17/17 [00:03<00:00,  4.82it/s]"
     ]
    },
    {
     "name": "stdout",
     "output_type": "stream",
     "text": [
      "                   all        517      14431      0.858      0.823      0.867      0.644\n"
     ]
    },
    {
     "name": "stderr",
     "output_type": "stream",
     "text": [
      "\n"
     ]
    },
    {
     "name": "stdout",
     "output_type": "stream",
     "text": [
      "\n",
      "      Epoch    GPU_mem   box_loss   cls_loss   dfl_loss  Instances       Size\n"
     ]
    },
    {
     "name": "stderr",
     "output_type": "stream",
     "text": [
      "      19/50      4.56G     0.9714     0.7417      1.045        157        640: 100%|██████████| 33/33 [00:12<00:00,  2.75it/s]\n",
      "                 Class     Images  Instances      Box(P          R      mAP50  mAP50-95): 100%|██████████| 17/17 [00:03<00:00,  5.09it/s]"
     ]
    },
    {
     "name": "stdout",
     "output_type": "stream",
     "text": [
      "                   all        517      14431      0.909      0.768      0.849      0.639\n"
     ]
    },
    {
     "name": "stderr",
     "output_type": "stream",
     "text": [
      "\n"
     ]
    },
    {
     "name": "stdout",
     "output_type": "stream",
     "text": [
      "\n",
      "      Epoch    GPU_mem   box_loss   cls_loss   dfl_loss  Instances       Size\n"
     ]
    },
    {
     "name": "stderr",
     "output_type": "stream",
     "text": [
      "      20/50      4.91G     0.9767     0.7347      1.042        200        640: 100%|██████████| 33/33 [00:11<00:00,  2.88it/s]\n",
      "                 Class     Images  Instances      Box(P          R      mAP50  mAP50-95): 100%|██████████| 17/17 [00:03<00:00,  4.96it/s]"
     ]
    },
    {
     "name": "stdout",
     "output_type": "stream",
     "text": [
      "                   all        517      14431      0.888      0.796      0.862      0.633\n"
     ]
    },
    {
     "name": "stderr",
     "output_type": "stream",
     "text": [
      "\n"
     ]
    },
    {
     "name": "stdout",
     "output_type": "stream",
     "text": [
      "\n",
      "      Epoch    GPU_mem   box_loss   cls_loss   dfl_loss  Instances       Size\n"
     ]
    },
    {
     "name": "stderr",
     "output_type": "stream",
     "text": [
      "      21/50      5.22G     0.9588     0.7424      1.042        213        640: 100%|██████████| 33/33 [00:11<00:00,  2.82it/s]\n",
      "                 Class     Images  Instances      Box(P          R      mAP50  mAP50-95): 100%|██████████| 17/17 [00:03<00:00,  4.76it/s]"
     ]
    },
    {
     "name": "stdout",
     "output_type": "stream",
     "text": [
      "                   all        517      14431      0.931      0.762      0.855      0.651\n"
     ]
    },
    {
     "name": "stderr",
     "output_type": "stream",
     "text": [
      "\n"
     ]
    },
    {
     "name": "stdout",
     "output_type": "stream",
     "text": [
      "\n",
      "      Epoch    GPU_mem   box_loss   cls_loss   dfl_loss  Instances       Size\n"
     ]
    },
    {
     "name": "stderr",
     "output_type": "stream",
     "text": [
      "      22/50      5.46G     0.9771     0.7343      1.047        142        640: 100%|██████████| 33/33 [00:11<00:00,  2.78it/s]\n",
      "                 Class     Images  Instances      Box(P          R      mAP50  mAP50-95): 100%|██████████| 17/17 [00:03<00:00,  5.42it/s]"
     ]
    },
    {
     "name": "stdout",
     "output_type": "stream",
     "text": [
      "                   all        517      14431      0.881      0.811      0.866      0.638\n"
     ]
    },
    {
     "name": "stderr",
     "output_type": "stream",
     "text": [
      "\n"
     ]
    },
    {
     "name": "stdout",
     "output_type": "stream",
     "text": [
      "\n",
      "      Epoch    GPU_mem   box_loss   cls_loss   dfl_loss  Instances       Size\n"
     ]
    },
    {
     "name": "stderr",
     "output_type": "stream",
     "text": [
      "      23/50      4.49G     0.9782      0.721      1.046        122        640: 100%|██████████| 33/33 [00:11<00:00,  2.79it/s]\n",
      "                 Class     Images  Instances      Box(P          R      mAP50  mAP50-95): 100%|██████████| 17/17 [00:02<00:00,  5.74it/s]"
     ]
    },
    {
     "name": "stdout",
     "output_type": "stream",
     "text": [
      "                   all        517      14431      0.901      0.816      0.876      0.654\n"
     ]
    },
    {
     "name": "stderr",
     "output_type": "stream",
     "text": [
      "\n"
     ]
    },
    {
     "name": "stdout",
     "output_type": "stream",
     "text": [
      "\n",
      "      Epoch    GPU_mem   box_loss   cls_loss   dfl_loss  Instances       Size\n"
     ]
    },
    {
     "name": "stderr",
     "output_type": "stream",
     "text": [
      "      24/50      4.89G      0.968     0.7244      1.049        172        640: 100%|██████████| 33/33 [00:11<00:00,  2.89it/s]\n",
      "                 Class     Images  Instances      Box(P          R      mAP50  mAP50-95): 100%|██████████| 17/17 [00:03<00:00,  5.08it/s]\n"
     ]
    },
    {
     "name": "stdout",
     "output_type": "stream",
     "text": [
      "                   all        517      14431      0.916      0.796       0.87      0.658\n",
      "\n",
      "      Epoch    GPU_mem   box_loss   cls_loss   dfl_loss  Instances       Size\n"
     ]
    },
    {
     "name": "stderr",
     "output_type": "stream",
     "text": [
      "      25/50      5.04G     0.9445     0.6957      1.028        219        640: 100%|██████████| 33/33 [00:11<00:00,  2.78it/s]\n",
      "                 Class     Images  Instances      Box(P          R      mAP50  mAP50-95): 100%|██████████| 17/17 [00:03<00:00,  4.80it/s]\n"
     ]
    },
    {
     "name": "stdout",
     "output_type": "stream",
     "text": [
      "                   all        517      14431      0.927      0.785      0.866       0.66\n",
      "\n",
      "      Epoch    GPU_mem   box_loss   cls_loss   dfl_loss  Instances       Size\n"
     ]
    },
    {
     "name": "stderr",
     "output_type": "stream",
     "text": [
      "      26/50      5.29G     0.9454     0.7181      1.031        142        640: 100%|██████████| 33/33 [00:12<00:00,  2.67it/s]\n",
      "                 Class     Images  Instances      Box(P          R      mAP50  mAP50-95): 100%|██████████| 17/17 [00:02<00:00,  5.81it/s]"
     ]
    },
    {
     "name": "stdout",
     "output_type": "stream",
     "text": [
      "                   all        517      14431      0.911      0.815      0.881      0.677\n"
     ]
    },
    {
     "name": "stderr",
     "output_type": "stream",
     "text": [
      "\n"
     ]
    },
    {
     "name": "stdout",
     "output_type": "stream",
     "text": [
      "\n",
      "      Epoch    GPU_mem   box_loss   cls_loss   dfl_loss  Instances       Size\n"
     ]
    },
    {
     "name": "stderr",
     "output_type": "stream",
     "text": [
      "      27/50         5G       0.95     0.6974      1.033        204        640: 100%|██████████| 33/33 [00:11<00:00,  2.86it/s]\n",
      "                 Class     Images  Instances      Box(P          R      mAP50  mAP50-95): 100%|██████████| 17/17 [00:03<00:00,  5.34it/s]"
     ]
    },
    {
     "name": "stdout",
     "output_type": "stream",
     "text": [
      "                   all        517      14431      0.903      0.829      0.885      0.675\n"
     ]
    },
    {
     "name": "stderr",
     "output_type": "stream",
     "text": [
      "\n"
     ]
    },
    {
     "name": "stdout",
     "output_type": "stream",
     "text": [
      "\n",
      "      Epoch    GPU_mem   box_loss   cls_loss   dfl_loss  Instances       Size\n"
     ]
    },
    {
     "name": "stderr",
     "output_type": "stream",
     "text": [
      "      28/50      4.64G     0.9473     0.7051      1.034        163        640: 100%|██████████| 33/33 [00:12<00:00,  2.72it/s]\n",
      "                 Class     Images  Instances      Box(P          R      mAP50  mAP50-95): 100%|██████████| 17/17 [00:03<00:00,  5.32it/s]\n"
     ]
    },
    {
     "name": "stdout",
     "output_type": "stream",
     "text": [
      "                   all        517      14431      0.933      0.787      0.871       0.66\n",
      "\n",
      "      Epoch    GPU_mem   box_loss   cls_loss   dfl_loss  Instances       Size\n"
     ]
    },
    {
     "name": "stderr",
     "output_type": "stream",
     "text": [
      "      29/50         5G     0.9399     0.6852      1.036        171        640: 100%|██████████| 33/33 [00:11<00:00,  2.83it/s]\n",
      "                 Class     Images  Instances      Box(P          R      mAP50  mAP50-95): 100%|██████████| 17/17 [00:03<00:00,  5.51it/s]"
     ]
    },
    {
     "name": "stdout",
     "output_type": "stream",
     "text": [
      "                   all        517      14431      0.941      0.764      0.862      0.673\n"
     ]
    },
    {
     "name": "stderr",
     "output_type": "stream",
     "text": [
      "\n"
     ]
    },
    {
     "name": "stdout",
     "output_type": "stream",
     "text": [
      "\n",
      "      Epoch    GPU_mem   box_loss   cls_loss   dfl_loss  Instances       Size\n"
     ]
    },
    {
     "name": "stderr",
     "output_type": "stream",
     "text": [
      "      30/50      4.94G     0.9271     0.6836      1.026        233        640: 100%|██████████| 33/33 [00:11<00:00,  2.81it/s]\n",
      "                 Class     Images  Instances      Box(P          R      mAP50  mAP50-95): 100%|██████████| 17/17 [00:03<00:00,  5.40it/s]"
     ]
    },
    {
     "name": "stdout",
     "output_type": "stream",
     "text": [
      "                   all        517      14431      0.933      0.795      0.876      0.682\n"
     ]
    },
    {
     "name": "stderr",
     "output_type": "stream",
     "text": [
      "\n"
     ]
    },
    {
     "name": "stdout",
     "output_type": "stream",
     "text": [
      "\n",
      "      Epoch    GPU_mem   box_loss   cls_loss   dfl_loss  Instances       Size\n"
     ]
    },
    {
     "name": "stderr",
     "output_type": "stream",
     "text": [
      "      31/50      4.86G     0.9223     0.6652       1.02        167        640: 100%|██████████| 33/33 [00:12<00:00,  2.70it/s]\n",
      "                 Class     Images  Instances      Box(P          R      mAP50  mAP50-95): 100%|██████████| 17/17 [00:03<00:00,  5.35it/s]"
     ]
    },
    {
     "name": "stdout",
     "output_type": "stream",
     "text": [
      "                   all        517      14431      0.915      0.821      0.886      0.677\n"
     ]
    },
    {
     "name": "stderr",
     "output_type": "stream",
     "text": [
      "\n"
     ]
    },
    {
     "name": "stdout",
     "output_type": "stream",
     "text": [
      "\n",
      "      Epoch    GPU_mem   box_loss   cls_loss   dfl_loss  Instances       Size\n"
     ]
    },
    {
     "name": "stderr",
     "output_type": "stream",
     "text": [
      "      32/50      4.42G      0.916     0.6683      1.021        128        640: 100%|██████████| 33/33 [00:11<00:00,  2.76it/s]\n",
      "                 Class     Images  Instances      Box(P          R      mAP50  mAP50-95): 100%|██████████| 17/17 [00:03<00:00,  4.82it/s]"
     ]
    },
    {
     "name": "stdout",
     "output_type": "stream",
     "text": [
      "                   all        517      14431      0.922      0.832      0.894      0.698\n"
     ]
    },
    {
     "name": "stderr",
     "output_type": "stream",
     "text": [
      "\n"
     ]
    },
    {
     "name": "stdout",
     "output_type": "stream",
     "text": [
      "\n",
      "      Epoch    GPU_mem   box_loss   cls_loss   dfl_loss  Instances       Size\n"
     ]
    },
    {
     "name": "stderr",
     "output_type": "stream",
     "text": [
      "      33/50      4.62G     0.9206     0.6576      1.021        152        640: 100%|██████████| 33/33 [00:12<00:00,  2.73it/s]\n",
      "                 Class     Images  Instances      Box(P          R      mAP50  mAP50-95): 100%|██████████| 17/17 [00:03<00:00,  5.23it/s]"
     ]
    },
    {
     "name": "stdout",
     "output_type": "stream",
     "text": [
      "                   all        517      14431      0.912      0.852      0.903      0.705\n"
     ]
    },
    {
     "name": "stderr",
     "output_type": "stream",
     "text": [
      "\n"
     ]
    },
    {
     "name": "stdout",
     "output_type": "stream",
     "text": [
      "\n",
      "      Epoch    GPU_mem   box_loss   cls_loss   dfl_loss  Instances       Size\n"
     ]
    },
    {
     "name": "stderr",
     "output_type": "stream",
     "text": [
      "      34/50      4.96G     0.9187     0.6602       1.01        302        640: 100%|██████████| 33/33 [00:11<00:00,  2.75it/s]\n",
      "                 Class     Images  Instances      Box(P          R      mAP50  mAP50-95): 100%|██████████| 17/17 [00:03<00:00,  4.79it/s]"
     ]
    },
    {
     "name": "stdout",
     "output_type": "stream",
     "text": [
      "                   all        517      14431       0.91      0.842      0.896      0.684\n"
     ]
    },
    {
     "name": "stderr",
     "output_type": "stream",
     "text": [
      "\n"
     ]
    },
    {
     "name": "stdout",
     "output_type": "stream",
     "text": [
      "\n",
      "      Epoch    GPU_mem   box_loss   cls_loss   dfl_loss  Instances       Size\n"
     ]
    },
    {
     "name": "stderr",
     "output_type": "stream",
     "text": [
      "      35/50      4.51G     0.9113     0.6583      1.007        134        640: 100%|██████████| 33/33 [00:12<00:00,  2.74it/s]\n",
      "                 Class     Images  Instances      Box(P          R      mAP50  mAP50-95): 100%|██████████| 17/17 [00:03<00:00,  5.51it/s]"
     ]
    },
    {
     "name": "stdout",
     "output_type": "stream",
     "text": [
      "                   all        517      14431      0.927      0.839        0.9      0.705\n"
     ]
    },
    {
     "name": "stderr",
     "output_type": "stream",
     "text": [
      "\n"
     ]
    },
    {
     "name": "stdout",
     "output_type": "stream",
     "text": [
      "\n",
      "      Epoch    GPU_mem   box_loss   cls_loss   dfl_loss  Instances       Size\n"
     ]
    },
    {
     "name": "stderr",
     "output_type": "stream",
     "text": [
      "      36/50      4.82G       0.89     0.6416      1.012        253        640: 100%|██████████| 33/33 [00:12<00:00,  2.59it/s]\n",
      "                 Class     Images  Instances      Box(P          R      mAP50  mAP50-95): 100%|██████████| 17/17 [00:02<00:00,  6.10it/s]\n"
     ]
    },
    {
     "name": "stdout",
     "output_type": "stream",
     "text": [
      "                   all        517      14431      0.937      0.816       0.89      0.697\n",
      "\n",
      "      Epoch    GPU_mem   box_loss   cls_loss   dfl_loss  Instances       Size\n"
     ]
    },
    {
     "name": "stderr",
     "output_type": "stream",
     "text": [
      "      37/50      5.12G     0.8914     0.6263      1.011        271        640: 100%|██████████| 33/33 [00:11<00:00,  2.84it/s]\n",
      "                 Class     Images  Instances      Box(P          R      mAP50  mAP50-95): 100%|██████████| 17/17 [00:03<00:00,  5.09it/s]\n"
     ]
    },
    {
     "name": "stdout",
     "output_type": "stream",
     "text": [
      "                   all        517      14431      0.938      0.825      0.895      0.704\n",
      "\n",
      "      Epoch    GPU_mem   box_loss   cls_loss   dfl_loss  Instances       Size\n"
     ]
    },
    {
     "name": "stderr",
     "output_type": "stream",
     "text": [
      "      38/50      4.55G     0.8901     0.6204      1.011        270        640: 100%|██████████| 33/33 [00:12<00:00,  2.73it/s]\n",
      "                 Class     Images  Instances      Box(P          R      mAP50  mAP50-95): 100%|██████████| 17/17 [00:03<00:00,  4.92it/s]"
     ]
    },
    {
     "name": "stdout",
     "output_type": "stream",
     "text": [
      "                   all        517      14431      0.923      0.857      0.909      0.718\n"
     ]
    },
    {
     "name": "stderr",
     "output_type": "stream",
     "text": [
      "\n"
     ]
    },
    {
     "name": "stdout",
     "output_type": "stream",
     "text": [
      "\n",
      "      Epoch    GPU_mem   box_loss   cls_loss   dfl_loss  Instances       Size\n"
     ]
    },
    {
     "name": "stderr",
     "output_type": "stream",
     "text": [
      "      39/50      5.92G     0.8881     0.6412      1.014        104        640: 100%|██████████| 33/33 [00:11<00:00,  2.90it/s]\n",
      "                 Class     Images  Instances      Box(P          R      mAP50  mAP50-95): 100%|██████████| 17/17 [00:04<00:00,  4.05it/s]"
     ]
    },
    {
     "name": "stdout",
     "output_type": "stream",
     "text": [
      "                   all        517      14431      0.923      0.868      0.915      0.724\n"
     ]
    },
    {
     "name": "stderr",
     "output_type": "stream",
     "text": [
      "\n"
     ]
    },
    {
     "name": "stdout",
     "output_type": "stream",
     "text": [
      "\n",
      "      Epoch    GPU_mem   box_loss   cls_loss   dfl_loss  Instances       Size\n"
     ]
    },
    {
     "name": "stderr",
     "output_type": "stream",
     "text": [
      "      40/50      4.81G     0.8805     0.6225      1.002        138        640: 100%|██████████| 33/33 [00:12<00:00,  2.72it/s]\n",
      "                 Class     Images  Instances      Box(P          R      mAP50  mAP50-95): 100%|██████████| 17/17 [00:03<00:00,  5.66it/s]"
     ]
    },
    {
     "name": "stdout",
     "output_type": "stream",
     "text": [
      "                   all        517      14431       0.94      0.834      0.901      0.716\n"
     ]
    },
    {
     "name": "stderr",
     "output_type": "stream",
     "text": [
      "\n"
     ]
    },
    {
     "name": "stdout",
     "output_type": "stream",
     "text": [
      "Closing dataloader mosaic\n",
      "\n",
      "      Epoch    GPU_mem   box_loss   cls_loss   dfl_loss  Instances       Size\n"
     ]
    },
    {
     "name": "stderr",
     "output_type": "stream",
     "text": [
      "      41/50      4.46G     0.8652      0.598      1.016        139        640: 100%|██████████| 33/33 [00:15<00:00,  2.07it/s]\n",
      "                 Class     Images  Instances      Box(P          R      mAP50  mAP50-95): 100%|██████████| 17/17 [00:02<00:00,  6.71it/s]"
     ]
    },
    {
     "name": "stdout",
     "output_type": "stream",
     "text": [
      "                   all        517      14431      0.917       0.86      0.911      0.712\n"
     ]
    },
    {
     "name": "stderr",
     "output_type": "stream",
     "text": [
      "\n"
     ]
    },
    {
     "name": "stdout",
     "output_type": "stream",
     "text": [
      "\n",
      "      Epoch    GPU_mem   box_loss   cls_loss   dfl_loss  Instances       Size\n"
     ]
    },
    {
     "name": "stderr",
     "output_type": "stream",
     "text": [
      "      42/50      4.43G     0.8523     0.5757      1.004        117        640: 100%|██████████| 33/33 [00:07<00:00,  4.59it/s]\n",
      "                 Class     Images  Instances      Box(P          R      mAP50  mAP50-95): 100%|██████████| 17/17 [00:02<00:00,  6.57it/s]"
     ]
    },
    {
     "name": "stdout",
     "output_type": "stream",
     "text": [
      "                   all        517      14431      0.942      0.846      0.908      0.729\n"
     ]
    },
    {
     "name": "stderr",
     "output_type": "stream",
     "text": [
      "\n"
     ]
    },
    {
     "name": "stdout",
     "output_type": "stream",
     "text": [
      "\n",
      "      Epoch    GPU_mem   box_loss   cls_loss   dfl_loss  Instances       Size\n"
     ]
    },
    {
     "name": "stderr",
     "output_type": "stream",
     "text": [
      "      43/50       4.2G      0.844     0.5684     0.9993        178        640: 100%|██████████| 33/33 [00:07<00:00,  4.55it/s]\n",
      "                 Class     Images  Instances      Box(P          R      mAP50  mAP50-95): 100%|██████████| 17/17 [00:02<00:00,  6.47it/s]"
     ]
    },
    {
     "name": "stdout",
     "output_type": "stream",
     "text": [
      "                   all        517      14431      0.949      0.814      0.892      0.709\n"
     ]
    },
    {
     "name": "stderr",
     "output_type": "stream",
     "text": [
      "\n"
     ]
    },
    {
     "name": "stdout",
     "output_type": "stream",
     "text": [
      "\n",
      "      Epoch    GPU_mem   box_loss   cls_loss   dfl_loss  Instances       Size\n"
     ]
    },
    {
     "name": "stderr",
     "output_type": "stream",
     "text": [
      "      44/50      4.57G     0.8307     0.5601      1.005        111        640: 100%|██████████| 33/33 [00:07<00:00,  4.35it/s]\n",
      "                 Class     Images  Instances      Box(P          R      mAP50  mAP50-95): 100%|██████████| 17/17 [00:02<00:00,  6.18it/s]"
     ]
    },
    {
     "name": "stdout",
     "output_type": "stream",
     "text": [
      "                   all        517      14431      0.943      0.852      0.912      0.727\n"
     ]
    },
    {
     "name": "stderr",
     "output_type": "stream",
     "text": [
      "\n"
     ]
    },
    {
     "name": "stdout",
     "output_type": "stream",
     "text": [
      "\n",
      "      Epoch    GPU_mem   box_loss   cls_loss   dfl_loss  Instances       Size\n"
     ]
    },
    {
     "name": "stderr",
     "output_type": "stream",
     "text": [
      "      45/50      4.24G     0.8275      0.549     0.9924        175        640: 100%|██████████| 33/33 [00:07<00:00,  4.54it/s]\n",
      "                 Class     Images  Instances      Box(P          R      mAP50  mAP50-95): 100%|██████████| 17/17 [00:02<00:00,  6.24it/s]"
     ]
    },
    {
     "name": "stdout",
     "output_type": "stream",
     "text": [
      "                   all        517      14431      0.931      0.859      0.913      0.719\n"
     ]
    },
    {
     "name": "stderr",
     "output_type": "stream",
     "text": [
      "\n"
     ]
    },
    {
     "name": "stdout",
     "output_type": "stream",
     "text": [
      "\n",
      "      Epoch    GPU_mem   box_loss   cls_loss   dfl_loss  Instances       Size\n"
     ]
    },
    {
     "name": "stderr",
     "output_type": "stream",
     "text": [
      "      46/50      4.08G     0.8296     0.5465     0.9948        112        640: 100%|██████████| 33/33 [00:06<00:00,  4.91it/s]\n",
      "                 Class     Images  Instances      Box(P          R      mAP50  mAP50-95): 100%|██████████| 17/17 [00:02<00:00,  6.34it/s]"
     ]
    },
    {
     "name": "stdout",
     "output_type": "stream",
     "text": [
      "                   all        517      14431      0.935      0.874      0.922      0.732\n"
     ]
    },
    {
     "name": "stderr",
     "output_type": "stream",
     "text": [
      "\n"
     ]
    },
    {
     "name": "stdout",
     "output_type": "stream",
     "text": [
      "\n",
      "      Epoch    GPU_mem   box_loss   cls_loss   dfl_loss  Instances       Size\n"
     ]
    },
    {
     "name": "stderr",
     "output_type": "stream",
     "text": [
      "      47/50      4.28G     0.8081       0.53     0.9974        132        640: 100%|██████████| 33/33 [00:07<00:00,  4.66it/s]\n",
      "                 Class     Images  Instances      Box(P          R      mAP50  mAP50-95): 100%|██████████| 17/17 [00:02<00:00,  6.22it/s]\n"
     ]
    },
    {
     "name": "stdout",
     "output_type": "stream",
     "text": [
      "                   all        517      14431      0.943       0.86      0.916      0.738\n",
      "\n",
      "      Epoch    GPU_mem   box_loss   cls_loss   dfl_loss  Instances       Size\n"
     ]
    },
    {
     "name": "stderr",
     "output_type": "stream",
     "text": [
      "      48/50      4.23G     0.8032     0.5197     0.9882        132        640: 100%|██████████| 33/33 [00:07<00:00,  4.61it/s]\n",
      "                 Class     Images  Instances      Box(P          R      mAP50  mAP50-95): 100%|██████████| 17/17 [00:02<00:00,  6.57it/s]"
     ]
    },
    {
     "name": "stdout",
     "output_type": "stream",
     "text": [
      "                   all        517      14431      0.948      0.871      0.924      0.746\n"
     ]
    },
    {
     "name": "stderr",
     "output_type": "stream",
     "text": [
      "\n"
     ]
    },
    {
     "name": "stdout",
     "output_type": "stream",
     "text": [
      "\n",
      "      Epoch    GPU_mem   box_loss   cls_loss   dfl_loss  Instances       Size\n"
     ]
    },
    {
     "name": "stderr",
     "output_type": "stream",
     "text": [
      "      49/50      4.61G     0.7882     0.5186     0.9841         96        640: 100%|██████████| 33/33 [00:07<00:00,  4.55it/s]\n",
      "                 Class     Images  Instances      Box(P          R      mAP50  mAP50-95): 100%|██████████| 17/17 [00:02<00:00,  6.61it/s]"
     ]
    },
    {
     "name": "stdout",
     "output_type": "stream",
     "text": [
      "                   all        517      14431      0.942      0.872      0.924      0.745\n"
     ]
    },
    {
     "name": "stderr",
     "output_type": "stream",
     "text": [
      "\n"
     ]
    },
    {
     "name": "stdout",
     "output_type": "stream",
     "text": [
      "\n",
      "      Epoch    GPU_mem   box_loss   cls_loss   dfl_loss  Instances       Size\n"
     ]
    },
    {
     "name": "stderr",
     "output_type": "stream",
     "text": [
      "      50/50      4.12G     0.7876      0.499     0.9771        184        640: 100%|██████████| 33/33 [00:07<00:00,  4.55it/s]\n",
      "                 Class     Images  Instances      Box(P          R      mAP50  mAP50-95): 100%|██████████| 17/17 [00:02<00:00,  6.73it/s]"
     ]
    },
    {
     "name": "stdout",
     "output_type": "stream",
     "text": [
      "                   all        517      14431       0.95      0.874      0.926      0.754\n"
     ]
    },
    {
     "name": "stderr",
     "output_type": "stream",
     "text": [
      "\n"
     ]
    },
    {
     "name": "stdout",
     "output_type": "stream",
     "text": [
      "\n",
      "50 epochs completed in 0.215 hours.\n",
      "Optimizer stripped from runs/detect/train16/weights/last.pt, 22.5MB\n",
      "Optimizer stripped from runs/detect/train16/weights/best.pt, 22.5MB\n",
      "\n",
      "Validating runs/detect/train16/weights/best.pt...\n",
      "Ultralytics YOLOv8.1.24 🚀 Python-3.9.16 torch-1.12.1+cu116 CUDA:0 (NVIDIA RTX A4000, 16109MiB)\n",
      "Model summary (fused): 168 layers, 11126745 parameters, 0 gradients, 28.4 GFLOPs\n"
     ]
    },
    {
     "name": "stderr",
     "output_type": "stream",
     "text": [
      "                 Class     Images  Instances      Box(P          R      mAP50  mAP50-95): 100%|██████████| 17/17 [00:17<00:00,  1.05s/it]\n"
     ]
    },
    {
     "name": "stdout",
     "output_type": "stream",
     "text": [
      "                   all        517      14431       0.95      0.874      0.926      0.754\n",
      "                  door        517       5470      0.965      0.907      0.947      0.772\n",
      "                window        517       3584      0.933      0.822      0.893      0.637\n",
      "                  zone        517       5377      0.952      0.893      0.938      0.852\n",
      "Speed: 0.5ms preprocess, 2.3ms inference, 0.0ms loss, 0.5ms postprocess per image\n",
      "Results saved to \u001b[1mruns/detect/train16\u001b[0m\n"
     ]
    },
    {
     "data": {
      "application/vnd.jupyter.widget-view+json": {
       "model_id": "f697f971ff9145729976da5bea4d756d",
       "version_major": 2,
       "version_minor": 0
      },
      "text/plain": [
       "VBox(children=(Label(value='68.643 MB of 68.643 MB uploaded\\r'), FloatProgress(value=1.0, max=1.0)))"
      ]
     },
     "metadata": {},
     "output_type": "display_data"
    },
    {
     "data": {
      "text/html": [
       "<style>\n",
       "    table.wandb td:nth-child(1) { padding: 0 10px; text-align: left ; width: auto;} td:nth-child(2) {text-align: left ; width: 100%}\n",
       "    .wandb-row { display: flex; flex-direction: row; flex-wrap: wrap; justify-content: flex-start; width: 100% }\n",
       "    .wandb-col { display: flex; flex-direction: column; flex-basis: 100%; flex: 1; padding: 10px; }\n",
       "    </style>\n",
       "<div class=\"wandb-row\"><div class=\"wandb-col\"><h3>Run history:</h3><br/><table class=\"wandb\"><tr><td>lr/pg0</td><td>▃▆█████▇▇▇▇▇▆▆▆▆▆▅▅▅▅▅▄▄▄▄▄▃▃▃▃▃▂▂▂▂▂▁▁▁</td></tr><tr><td>lr/pg1</td><td>▃▆█████▇▇▇▇▇▆▆▆▆▆▅▅▅▅▅▄▄▄▄▄▃▃▃▃▃▂▂▂▂▂▁▁▁</td></tr><tr><td>lr/pg2</td><td>▃▆█████▇▇▇▇▇▆▆▆▆▆▅▅▅▅▅▄▄▄▄▄▃▃▃▃▃▂▂▂▂▂▁▁▁</td></tr><tr><td>metrics/mAP50(B)</td><td>▂▁▂▄▅▅▄▅▆▆▆▆▆▆▆▆▆▆▇▇▇▇▇▆▇▇▇▇▇▇████▇█████</td></tr><tr><td>metrics/mAP50-95(B)</td><td>▁▁▂▃▄▄▄▄▅▅▅▅▅▆▆▆▆▆▆▆▆▆▆▆▆▇▇▇▇▇▇▇▇▇▇▇████</td></tr><tr><td>metrics/precision(B)</td><td>▁▄▃▃▄▅▆▆▆▇▆▇▇▇▆▇█▆▇▇▇▇██▇▇▇▇██▇▇▇███████</td></tr><tr><td>metrics/recall(B)</td><td>▃▁▃▅▆▆▃▅▆▅▆▆▅▆▇▆▆▇▇▆▇▇▆▆▇▇█▇▇▇███▇▇█████</td></tr><tr><td>model/GFLOPs</td><td>▁</td></tr><tr><td>model/parameters</td><td>▁</td></tr><tr><td>model/speed_PyTorch(ms)</td><td>▁</td></tr><tr><td>train/box_loss</td><td>█▅▅▄▄▄▄▃▃▃▃▃▃▃▃▃▃▃▃▃▂▂▂▂▂▂▂▂▂▂▂▂▂▂▁▁▁▁▁▁</td></tr><tr><td>train/cls_loss</td><td>█▄▃▃▃▃▃▂▂▂▂▂▂▂▂▂▂▂▂▂▂▂▂▂▂▂▂▂▂▂▁▂▁▁▁▁▁▁▁▁</td></tr><tr><td>train/dfl_loss</td><td>█▄▄▄▃▃▃▃▂▃▃▂▃▂▂▂▂▂▂▂▂▂▂▂▂▂▂▂▂▂▂▂▂▁▁▁▁▁▁▁</td></tr><tr><td>val/box_loss</td><td>██▇▇▅▅▆▅▅▄▄▃▄▃▄▃▃▄▄▃▃▃▃▃▃▂▂▃▂▂▂▂▂▁▂▂▂▁▁▁</td></tr><tr><td>val/cls_loss</td><td>██▆▅▅▄▄▄▃▃▃▃▃▂▃▃▂▃▂▂▂▂▂▂▂▂▂▂▂▂▂▁▂▁▂▁▁▁▁▁</td></tr><tr><td>val/dfl_loss</td><td>██▇▆▅▄▆▅▄▄▄▃▄▃▃▃▃▄▃▃▃▃▃▂▃▂▂▂▂▂▂▂▂▁▂▂▁▁▁▁</td></tr></table><br/></div><div class=\"wandb-col\"><h3>Run summary:</h3><br/><table class=\"wandb\"><tr><td>lr/pg0</td><td>7e-05</td></tr><tr><td>lr/pg1</td><td>7e-05</td></tr><tr><td>lr/pg2</td><td>7e-05</td></tr><tr><td>metrics/mAP50(B)</td><td>0.92577</td></tr><tr><td>metrics/mAP50-95(B)</td><td>0.75396</td></tr><tr><td>metrics/precision(B)</td><td>0.95021</td></tr><tr><td>metrics/recall(B)</td><td>0.87393</td></tr><tr><td>model/GFLOPs</td><td>28.651</td></tr><tr><td>model/parameters</td><td>11136761</td></tr><tr><td>model/speed_PyTorch(ms)</td><td>2.491</td></tr><tr><td>train/box_loss</td><td>0.78756</td></tr><tr><td>train/cls_loss</td><td>0.49899</td></tr><tr><td>train/dfl_loss</td><td>0.97709</td></tr><tr><td>val/box_loss</td><td>0.76284</td></tr><tr><td>val/cls_loss</td><td>0.46231</td></tr><tr><td>val/dfl_loss</td><td>0.95807</td></tr></table><br/></div></div>"
      ],
      "text/plain": [
       "<IPython.core.display.HTML object>"
      ]
     },
     "metadata": {},
     "output_type": "display_data"
    },
    {
     "data": {
      "text/html": [
       " View run <strong style=\"color:#cdcd00\">train16</strong> at: <a href='https://wandb.ai/amananand97/YOLOv8/runs/c4hffavu' target=\"_blank\">https://wandb.ai/amananand97/YOLOv8/runs/c4hffavu</a><br/> View job at <a href='https://wandb.ai/amananand97/YOLOv8/jobs/QXJ0aWZhY3RDb2xsZWN0aW9uOjE0NzE2MTk0Nw==/version_details/v2' target=\"_blank\">https://wandb.ai/amananand97/YOLOv8/jobs/QXJ0aWZhY3RDb2xsZWN0aW9uOjE0NzE2MTk0Nw==/version_details/v2</a><br/>Synced 6 W&B file(s), 23 media file(s), 10 artifact file(s) and 1 other file(s)"
      ],
      "text/plain": [
       "<IPython.core.display.HTML object>"
      ]
     },
     "metadata": {},
     "output_type": "display_data"
    },
    {
     "data": {
      "text/html": [
       "Find logs at: <code>./wandb/run-20240309_162714-c4hffavu/logs</code>"
      ],
      "text/plain": [
       "<IPython.core.display.HTML object>"
      ]
     },
     "metadata": {},
     "output_type": "display_data"
    },
    {
     "name": "stdout",
     "output_type": "stream",
     "text": [
      "Ultralytics YOLOv8.1.24 🚀 Python-3.9.16 torch-1.12.1+cu116 CUDA:0 (NVIDIA RTX A4000, 16109MiB)\n",
      "Model summary (fused): 168 layers, 11126745 parameters, 0 gradients, 28.4 GFLOPs\n"
     ]
    },
    {
     "name": "stderr",
     "output_type": "stream",
     "text": [
      "\u001b[34m\u001b[1mval: \u001b[0mScanning /notebooks/dataset/valid/labels.cache... 517 images, 0 backgrounds, 0 corrupt: 100%|██████████| 517/517 [00:00<?, ?it/s]\n",
      "                 Class     Images  Instances      Box(P          R      mAP50  mAP50-95): 100%|██████████| 33/33 [00:19<00:00,  1.66it/s]\n"
     ]
    },
    {
     "name": "stdout",
     "output_type": "stream",
     "text": [
      "                   all        517      14431       0.95      0.874      0.926      0.754\n",
      "                  door        517       5470      0.964      0.907      0.947      0.773\n",
      "                window        517       3584      0.933      0.823      0.893      0.637\n",
      "                  zone        517       5377      0.953      0.893      0.938      0.853\n",
      "Speed: 0.5ms preprocess, 7.3ms inference, 0.0ms loss, 11.3ms postprocess per image\n",
      "Results saved to \u001b[1mruns/detect/train162\u001b[0m\n"
     ]
    }
   ],
   "source": [
    "# Load a model\n",
    "model = YOLO(\"yolov8s.yaml\")  # build a new model from scratch\n",
    "model = YOLO(\"yolov8s.pt\")  # load a pretrained model (recommended for training)\n",
    "\n",
    "# Use the model\n",
    "#results = model.train(data=\"data/data.yaml\", epochs=100, imgsz=640, conf=0.7)  # 1st model hyperparameters\n",
    "results = model.train(data=\"dataset/data.yaml\", epochs=50, imgsz=640, conf=0.5, batch=16, momentum=0.937, weight_decay=0.0005, workers=8)  # 2nd model hyperparameters\n",
    "results = model.val()  # evaluate model performance on the validation set"
   ]
  },
  {
   "cell_type": "code",
   "execution_count": 6,
   "metadata": {
    "execution": {
     "iopub.execute_input": "2024-03-09T17:08:37.056323Z",
     "iopub.status.busy": "2024-03-09T17:08:37.055658Z",
     "iopub.status.idle": "2024-03-09T17:08:37.077886Z",
     "shell.execute_reply": "2024-03-09T17:08:37.077324Z",
     "shell.execute_reply.started": "2024-03-09T17:08:37.056275Z"
    },
    "id": "RbdzWU4cgezb"
   },
   "outputs": [
    {
     "data": {
      "image/png": "[encoded data removed]",
      "text/plain": [
       "<IPython.core.display.Image object>"
      ]
     },
     "execution_count": 6,
     "metadata": {
      "image/png": {
       "width": 600
      }
     },
     "output_type": "execute_result"
    }
   ],
   "source": [
    "Image (filename=f'/notebooks/runs/detect/train16/confusion_matrix.png', width=600)"
   ]
  },
  {
   "cell_type": "code",
   "execution_count": 7,
   "metadata": {
    "colab": {
     "base_uri": "https://localhost:8080/"
    },
    "execution": {
     "iopub.execute_input": "2024-03-09T17:08:51.962749Z",
     "iopub.status.busy": "2024-03-09T17:08:51.961926Z",
     "iopub.status.idle": "2024-03-09T17:09:04.691542Z",
     "shell.execute_reply": "2024-03-09T17:09:04.690721Z",
     "shell.execute_reply.started": "2024-03-09T17:08:51.962721Z"
    },
    "executionInfo": {
     "elapsed": 4814,
     "status": "ok",
     "timestamp": 1709840149226,
     "user": {
      "displayName": "Aman Anand",
      "userId": "10574522030686137715"
     },
     "user_tz": -330
    },
    "id": "IPA4otyYlY1U",
    "outputId": "0be08aad-83f6-4cbc-f078-4120949d47ed"
   },
   "outputs": [
    {
     "name": "stdout",
     "output_type": "stream",
     "text": [
      "Ultralytics YOLOv8.1.24 🚀 Python-3.9.16 torch-1.12.1+cu116 CUDA:0 (NVIDIA RTX A4000, 16109MiB)\n",
      "Model summary (fused): 168 layers, 11126745 parameters, 0 gradients, 28.4 GFLOPs\n",
      "\n",
      "image 1/255 /notebooks/data/test/images/1010_png.rf.cf3c8ce678e7dc00f7d5f0921f439858.jpg: 640x640 2 doors, 1 window, 3 zones, 6.5ms\n",
      "image 2/255 /notebooks/data/test/images/1012_png.rf.fd3d80c9e721a4e8b0c369a9be397af6.jpg: 640x640 2 doors, 1 window, 1 zone, 8.4ms\n",
      "image 3/255 /notebooks/data/test/images/1014_png.rf.6b088752e5649eeeb7334ff08996d2a2.jpg: 640x640 7 doors, 5 windows, 6 zones, 7.4ms\n",
      "image 4/255 /notebooks/data/test/images/1143_png.rf.544ecf6ffbb324793578c26f04af7760.jpg: 640x640 7 doors, 4 windows, 6 zones, 7.0ms\n",
      "image 5/255 /notebooks/data/test/images/1156_png.rf.d6b44f9ce1e99ca6a440a33c88714242.jpg: 640x640 7 doors, 4 windows, 5 zones, 7.1ms\n",
      "image 6/255 /notebooks/data/test/images/1165_png.rf.100d7ec198af12c832d20e45bf013990.jpg: 640x640 6 doors, 3 windows, 4 zones, 6.4ms\n",
      "image 7/255 /notebooks/data/test/images/1166_png.rf.68dc7282d0259f34de434ddf68135d68.jpg: 640x640 18 doors, 13 windows, 15 zones, 6.6ms\n",
      "image 8/255 /notebooks/data/test/images/1176_png.rf.ea6f90a6fb6b438315ae0c79ef0b330c.jpg: 640x640 6 doors, 3 windows, 5 zones, 6.7ms\n",
      "image 9/255 /notebooks/data/test/images/1213_png.rf.3106be63db0b36af43f77f5b287694a3.jpg: 640x640 4 doors, 4 windows, 6 zones, 7.2ms\n",
      "image 10/255 /notebooks/data/test/images/1214_png.rf.d25edaa68487225866eb2a7a42fbdc5a.jpg: 640x640 7 doors, 4 windows, 9 zones, 6.7ms\n",
      "image 11/255 /notebooks/data/test/images/1230_png.rf.0175617a9ecba104cfbd7838e94b60a8.jpg: 640x640 8 doors, 4 windows, 8 zones, 6.6ms\n",
      "image 12/255 /notebooks/data/test/images/1244_png.rf.bf2563d1aedde61739a8c71c5257ecdd.jpg: 640x640 4 doors, 6 windows, 6 zones, 6.7ms\n",
      "image 13/255 /notebooks/data/test/images/1247_png.rf.27b1fb89c0ad19a8fa89927bba2593a6.jpg: 640x640 4 doors, 3 windows, 4 zones, 6.8ms\n",
      "image 14/255 /notebooks/data/test/images/1257_png.rf.fa3de2ee16d320cf8927a9c9aab46e5e.jpg: 640x640 6 doors, 3 windows, 5 zones, 6.4ms\n",
      "image 15/255 /notebooks/data/test/images/1259_png.rf.5ccce5c3c12fc448f6357ebddb3e1ec9.jpg: 640x640 14 doors, 10 windows, 14 zones, 6.6ms\n",
      "image 16/255 /notebooks/data/test/images/1269_png.rf.eb738c064a530d277b2b8d8df1d71751.jpg: 640x640 15 doors, 17 windows, 16 zones, 6.7ms\n",
      "image 17/255 /notebooks/data/test/images/1274_png.rf.a54f5f8dae3142a4747db83c036d9adf.jpg: 640x640 15 doors, 4 windows, 14 zones, 7.3ms\n",
      "image 18/255 /notebooks/data/test/images/1308_png.rf.1906950ed1e6a4edbc5a4438cd3b6143.jpg: 640x640 7 doors, 4 windows, 6 zones, 6.6ms\n",
      "image 19/255 /notebooks/data/test/images/1320_png.rf.936d12edbe825264557e586c84d8548e.jpg: 640x640 15 doors, 15 windows, 16 zones, 6.6ms\n",
      "image 20/255 /notebooks/data/test/images/1336_png.rf.84e6e915dd38326f6c2a471325733651.jpg: 640x640 9 doors, 2 windows, 8 zones, 6.7ms\n",
      "image 21/255 /notebooks/data/test/images/1362_png.rf.5aabedbc3e8f0bc4ffa73b76aa22e879.jpg: 640x640 7 doors, 4 windows, 6 zones, 6.5ms\n",
      "image 22/255 /notebooks/data/test/images/1370_png.rf.332046f718346e733d2c07b6135a06f2.jpg: 640x640 1 door, 7 windows, 2 zones, 6.7ms\n",
      "image 23/255 /notebooks/data/test/images/1378_png.rf.040abb0a332b32334d29921748b900a6.jpg: 640x640 7 doors, 4 windows, 5 zones, 6.6ms\n",
      "image 24/255 /notebooks/data/test/images/1400_png.rf.8ad9a7e1c52b721036cbea3b49312c55.jpg: 640x640 8 doors, 4 windows, 8 zones, 6.3ms\n",
      "image 25/255 /notebooks/data/test/images/1409_png.rf.12d3c4c72f5e7d61866008a5fec3dad9.jpg: 640x640 9 doors, 5 windows, 9 zones, 6.5ms\n",
      "image 26/255 /notebooks/data/test/images/1425_png.rf.71ebb21f0da0926bebe4ed48e12e9733.jpg: 640x640 9 doors, 9 windows, 8 zones, 6.8ms\n",
      "image 27/255 /notebooks/data/test/images/1447_png.rf.0c7c1dba3260f4af31d9446c730e7102.jpg: 640x640 7 doors, 8 windows, 6 zones, 6.6ms\n",
      "image 28/255 /notebooks/data/test/images/1499_png.rf.5c3f92965107396caff82ddd7e73fc18.jpg: 640x640 8 doors, 6 windows, 8 zones, 6.8ms\n",
      "image 29/255 /notebooks/data/test/images/1521_png.rf.008e244721cbfd1528c4921027ebb8f9.jpg: 640x640 11 doors, 5 windows, 7 zones, 6.5ms\n",
      "image 30/255 /notebooks/data/test/images/1594_png.rf.f1ed81ea538d77d703ac62bd44307c4e.jpg: 640x640 33 doors, 25 windows, 26 zones, 6.6ms\n",
      "image 31/255 /notebooks/data/test/images/1600_png.rf.e5c8ce87d9f930049b4ce776a65aad15.jpg: 640x640 5 doors, 4 windows, 4 zones, 6.8ms\n",
      "image 32/255 /notebooks/data/test/images/1607_png.rf.ebb5c5ed8e42b52af5b6e7664eb61a37.jpg: 640x640 1 door, 6 windows, 10 zones, 7.1ms\n",
      "image 33/255 /notebooks/data/test/images/1624_png.rf.5ae6ed028203f51dd4015b3b277c6245.jpg: 640x640 4 doors, 3 windows, 5 zones, 6.8ms\n",
      "image 34/255 /notebooks/data/test/images/1639_png.rf.3d98e8559e20933d3596593ddaccf75f.jpg: 640x640 6 doors, 7 windows, 8 zones, 6.9ms\n",
      "image 35/255 /notebooks/data/test/images/1648_png.rf.ccf1242b44839076aa416eae946f9f32.jpg: 640x640 7 doors, 3 windows, 4 zones, 6.6ms\n",
      "image 36/255 /notebooks/data/test/images/1657_png.rf.1c7f20e8a3e35df5301232f46df2bbac.jpg: 640x640 2 doors, 11 windows, 7 zones, 6.4ms\n",
      "image 37/255 /notebooks/data/test/images/1659_png.rf.de297c0c7454274a17166a57d970faca.jpg: 640x640 4 doors, 5 windows, 6 zones, 6.3ms\n",
      "image 38/255 /notebooks/data/test/images/1668_png.rf.4c7e39e9f13bb18cd82100f6114a6688.jpg: 640x640 3 doors, 3 windows, 3 zones, 6.6ms\n",
      "image 39/255 /notebooks/data/test/images/1675_png.rf.3238e271728eedf76af8410370aee67a.jpg: 640x640 5 doors, 5 windows, 4 zones, 6.4ms\n",
      "image 40/255 /notebooks/data/test/images/1677_png.rf.3de1021fe1f50f28a31a32a7509c02df.jpg: 640x640 13 doors, 7 windows, 12 zones, 6.3ms\n",
      "image 41/255 /notebooks/data/test/images/1679_png.rf.a0f2eb500b2435f3ff64d215244ccf47.jpg: 640x640 7 doors, 2 windows, 6 zones, 6.6ms\n",
      "image 42/255 /notebooks/data/test/images/1693_png.rf.c8ec9cca3f4f5547edf70886e37a457c.jpg: 640x640 5 doors, 4 windows, 5 zones, 6.5ms\n",
      "image 43/255 /notebooks/data/test/images/1715_png.rf.282c7a8d22ce03cfff1b3e82d323afd0.jpg: 640x640 7 doors, 3 windows, 6 zones, 6.4ms\n",
      "image 44/255 /notebooks/data/test/images/1757_png.rf.3e47d058ed03f19b9fa0ae1ce671e7f2.jpg: 640x640 13 doors, 11 windows, 14 zones, 6.3ms\n",
      "image 45/255 /notebooks/data/test/images/1771_png.rf.5a5b4d9b9e336228e38cde1c730cf14e.jpg: 640x640 7 doors, 4 windows, 5 zones, 6.4ms\n",
      "image 46/255 /notebooks/data/test/images/1775_png.rf.01c0287a3ad8e5c263ba8b451f91dbc3.jpg: 640x640 8 doors, 5 windows, 7 zones, 6.5ms\n",
      "image 47/255 /notebooks/data/test/images/1789_png.rf.5b6f59363a3c51cea40d50a2905f13e4.jpg: 640x640 9 doors, 8 windows, 9 zones, 7.4ms\n",
      "image 48/255 /notebooks/data/test/images/1800_png.rf.9ed04407ce127cd3c15403a12bc08499.jpg: 640x640 8 doors, 4 windows, 7 zones, 6.6ms\n",
      "image 49/255 /notebooks/data/test/images/1805_png.rf.7121477e2891bc4b0d4cffc2d0fe342f.jpg: 640x640 7 doors, 2 windows, 6 zones, 7.8ms\n",
      "image 50/255 /notebooks/data/test/images/1820_png.rf.685a64783b2003c546878f91b1d6cb5e.jpg: 640x640 10 doors, 8 windows, 7 zones, 6.6ms\n",
      "image 51/255 /notebooks/data/test/images/1825_png.rf.9400dbb9f5488066735e963c1524b725.jpg: 640x640 6 doors, 2 windows, 5 zones, 6.8ms\n",
      "image 52/255 /notebooks/data/test/images/1843_png.rf.3b1348d306b4a1d429d37b2dae523d79.jpg: 640x640 5 doors, 3 windows, 6 zones, 6.6ms\n",
      "image 53/255 /notebooks/data/test/images/1849_png.rf.adecc4fb11713f1464f71e728362465f.jpg: 640x640 20 doors, 35 windows, 23 zones, 6.6ms\n",
      "image 54/255 /notebooks/data/test/images/1865_png.rf.feaad8fe150d1609d9fed7988d79824d.jpg: 640x640 5 doors, 4 windows, 4 zones, 6.6ms\n",
      "image 55/255 /notebooks/data/test/images/1872_png.rf.a2b2974ec7d2f007f3fd72fb8eddb087.jpg: 640x640 3 doors, 10 windows, 9 zones, 6.7ms\n",
      "image 56/255 /notebooks/data/test/images/1913_png.rf.b6b4982e95a3e90980ed0143ba40b282.jpg: 640x640 5 doors, 4 windows, 4 zones, 6.6ms\n",
      "image 57/255 /notebooks/data/test/images/1916_png.rf.a4065b325567ba897a06610947a54957.jpg: 640x640 14 doors, 8 windows, 11 zones, 6.5ms\n",
      "image 58/255 /notebooks/data/test/images/1917_png.rf.4151e573ebbb7064cb39e1cc9ecd89da.jpg: 640x640 4 doors, 3 windows, 4 zones, 6.6ms\n",
      "image 59/255 /notebooks/data/test/images/1918_png.rf.5384584ab579e001262f1cc88ff61748.jpg: 640x640 7 doors, 5 windows, 6 zones, 6.5ms\n",
      "image 60/255 /notebooks/data/test/images/1941_png.rf.12887ea4a0bc3f04be68c92d5da43208.jpg: 640x640 17 doors, 6 windows, 14 zones, 6.5ms\n",
      "image 61/255 /notebooks/data/test/images/1972_png.rf.3fa0be28e0a0e7d0b1fdf89dcfe295e9.jpg: 640x640 6 doors, 2 windows, 6 zones, 7.0ms\n",
      "image 62/255 /notebooks/data/test/images/1999_png.rf.d99e7efba8f320ee9b7a2c7a1ad99e0e.jpg: 640x640 13 doors, 9 windows, 10 zones, 6.7ms\n",
      "image 63/255 /notebooks/data/test/images/2004_png.rf.733394d60eb9d41615ec38a4bf5ac0fd.jpg: 640x640 5 doors, 7 windows, 4 zones, 6.7ms\n",
      "image 64/255 /notebooks/data/test/images/2032_png.rf.68559806437565b7576467922c3842f1.jpg: 640x640 7 doors, 5 windows, 9 zones, 6.6ms\n",
      "image 65/255 /notebooks/data/test/images/2035_png.rf.e6a30ff80f3af6bc124461a50cfece70.jpg: 640x640 11 doors, 12 windows, 13 zones, 8.2ms\n",
      "image 66/255 /notebooks/data/test/images/2038_png.rf.b5023b54bfd68237c43625df305cd6d3.jpg: 640x640 10 doors, 5 windows, 9 zones, 6.7ms\n",
      "image 67/255 /notebooks/data/test/images/2057_png.rf.ceb4f400042b87ad71983ed8dcac7eeb.jpg: 640x640 3 doors, 7 windows, 5 zones, 6.8ms\n",
      "image 68/255 /notebooks/data/test/images/2069_png.rf.929e32eed5cb20b6e11768c3353d5755.jpg: 640x640 8 doors, 2 windows, 5 zones, 6.7ms\n",
      "image 69/255 /notebooks/data/test/images/2086_png.rf.42d6753288b6082da7bccc1b7d8f7cbf.jpg: 640x640 11 doors, 25 windows, 13 zones, 6.8ms\n",
      "image 70/255 /notebooks/data/test/images/2098_png.rf.991e1d1df87e762e9553e700405ba417.jpg: 640x640 9 doors, 4 windows, 8 zones, 6.6ms\n",
      "image 71/255 /notebooks/data/test/images/2150_png.rf.5315b2375e8ec9e794f0db62c52e8372.jpg: 640x640 2 doors, 4 windows, 3 zones, 6.7ms\n",
      "image 72/255 /notebooks/data/test/images/2152_png.rf.d336df4fef511cb4212dac5787126598.jpg: 640x640 10 doors, 4 windows, 9 zones, 6.6ms\n",
      "image 73/255 /notebooks/data/test/images/2168_png.rf.d3ac94f2d650e848523bad3cf3c3bce7.jpg: 640x640 9 doors, 8 windows, 16 zones, 6.8ms\n",
      "image 74/255 /notebooks/data/test/images/2174_png.rf.07723332c5dd06cd9bc42205b981edee.jpg: 640x640 10 doors, 7 windows, 9 zones, 6.9ms\n",
      "image 75/255 /notebooks/data/test/images/2269_png.rf.e73447390bb87d6058a336845aa76f30.jpg: 640x640 8 doors, 7 windows, 11 zones, 6.6ms\n",
      "image 76/255 /notebooks/data/test/images/2391_png.rf.bd9a24d1f40dde47a5d87ab7cfcbcff7.jpg: 640x640 12 doors, 12 windows, 15 zones, 6.7ms\n",
      "image 77/255 /notebooks/data/test/images/2435_png.rf.5e396a763993cf1ed872a77668a55d9c.jpg: 640x640 9 doors, 8 windows, 10 zones, 6.9ms\n",
      "image 78/255 /notebooks/data/test/images/2445_png.rf.5d6d21112b8966ebb2f4c435b2f4f21a.jpg: 640x640 17 doors, 8 windows, 12 zones, 6.5ms\n",
      "image 79/255 /notebooks/data/test/images/2476_png.rf.c433a3e295761d34066c70099e9c37e6.jpg: 640x640 13 doors, 14 windows, 13 zones, 6.2ms\n",
      "image 80/255 /notebooks/data/test/images/2605_png.rf.8cd67d93c438a531f2c6c4f471b1d9b6.jpg: 640x640 14 doors, 14 windows, 24 zones, 6.2ms\n",
      "image 81/255 /notebooks/data/test/images/2631_png.rf.90028b37c1a75d702b05d27986c207b3.jpg: 640x640 8 doors, 6 windows, 10 zones, 6.5ms\n",
      "image 82/255 /notebooks/data/test/images/2650_png.rf.3e1c65a4f758e407b80c59ebe2b5e531.jpg: 640x640 12 doors, 2 windows, 13 zones, 8.5ms\n",
      "image 83/255 /notebooks/data/test/images/2700_png.rf.9d89f9c81c9ced67fbc6faef254006f2.jpg: 640x640 16 doors, 5 windows, 19 zones, 7.0ms\n",
      "image 84/255 /notebooks/data/test/images/2735_png.rf.a17c5478f2ce133d9c2cbb571fe59c35.jpg: 640x640 8 doors, 1 window, 7 zones, 6.8ms\n",
      "image 85/255 /notebooks/data/test/images/2743_png.rf.1b6ae3388a8cff90534b004f9dca047f.jpg: 640x640 8 doors, 4 windows, 6 zones, 7.2ms\n",
      "image 86/255 /notebooks/data/test/images/2804_png.rf.4562195a0646e3d10b0e28250efb1b89.jpg: 640x640 14 doors, 18 windows, 17 zones, 6.7ms\n",
      "image 87/255 /notebooks/data/test/images/2814_png.rf.387a7a96d6f036060ac76d3ce62aba98.jpg: 640x640 15 doors, 14 zones, 6.5ms\n",
      "image 88/255 /notebooks/data/test/images/2838_png.rf.71ab57dad587a294ad91014a428b848e.jpg: 640x640 6 doors, 3 windows, 9 zones, 6.4ms\n",
      "image 89/255 /notebooks/data/test/images/2852_png.rf.68263b928fc81ffcac1bec88eedd73be.jpg: 640x640 13 doors, 11 windows, 13 zones, 7.1ms\n",
      "image 90/255 /notebooks/data/test/images/2862_png.rf.276652c5d1c4e0971bc3cf598de062a4.jpg: 640x640 26 doors, 17 windows, 22 zones, 6.7ms\n",
      "image 91/255 /notebooks/data/test/images/2884_png.rf.7219212e4e82c88406c2a84e1dc2fd04.jpg: 640x640 11 doors, 9 windows, 10 zones, 6.5ms\n",
      "image 92/255 /notebooks/data/test/images/2896_png.rf.1c4d7d5b3b1099a59588e1ebac1fa2f4.jpg: 640x640 8 doors, 10 windows, 8 zones, 6.7ms\n",
      "image 93/255 /notebooks/data/test/images/2933_png.rf.4dc4dea434d676e27b23a2f5e772487d.jpg: 640x640 10 doors, 5 windows, 12 zones, 7.0ms\n",
      "image 94/255 /notebooks/data/test/images/2957_png.rf.aee597a9cc1268c8d045dd8a47dd52cf.jpg: 640x640 12 doors, 9 zones, 7.1ms\n",
      "image 95/255 /notebooks/data/test/images/2971_png.rf.c244e41911145dab0aa8e6fbac2eb4b5.jpg: 640x640 15 doors, 9 windows, 11 zones, 7.7ms\n",
      "image 96/255 /notebooks/data/test/images/3012_png.rf.07c1dd1af109d6d9bf7a8c67da005203.jpg: 640x640 12 doors, 3 windows, 11 zones, 6.4ms\n",
      "image 97/255 /notebooks/data/test/images/3089_png.rf.1a11cfec8946822dda9792e78f6a18b5.jpg: 640x640 15 doors, 4 windows, 14 zones, 7.4ms\n",
      "image 98/255 /notebooks/data/test/images/3091_png.rf.5ff568a328680d0904a3c245bd871056.jpg: 640x640 7 doors, 4 windows, 8 zones, 6.6ms\n",
      "image 99/255 /notebooks/data/test/images/3134_png.rf.f9cf8be9325592258e1cde87039052f2.jpg: 640x640 7 doors, 5 windows, 9 zones, 6.6ms\n",
      "image 100/255 /notebooks/data/test/images/3185_png.rf.c306ed0575bd9fe84c748d30c2594fa5.jpg: 640x640 8 doors, 7 windows, 8 zones, 6.6ms\n",
      "image 101/255 /notebooks/data/test/images/3187_png.rf.8627dab692b3b2e1e6f03ddf50400b91.jpg: 640x640 9 doors, 9 windows, 10 zones, 6.3ms\n",
      "image 102/255 /notebooks/data/test/images/3237_png.rf.50cfd99d4ce3cafe9b44df75fa6b48dd.jpg: 640x640 8 doors, 4 windows, 6 zones, 6.4ms\n",
      "image 103/255 /notebooks/data/test/images/3251_png.rf.8798b25faba14ddc1fde440602bc4f07.jpg: 640x640 9 doors, 7 windows, 9 zones, 6.3ms\n",
      "image 104/255 /notebooks/data/test/images/3274_png.rf.3579c44c90e48adf1e0944ed9753672b.jpg: 640x640 4 doors, 4 windows, 4 zones, 6.4ms\n",
      "image 105/255 /notebooks/data/test/images/3284_png.rf.3d64986377f02ae65cb762acab07d30c.jpg: 640x640 3 doors, 6 windows, 8 zones, 6.1ms\n",
      "image 106/255 /notebooks/data/test/images/3296_png.rf.02ef74513db4207feb76a315f302b067.jpg: 640x640 6 doors, 3 windows, 5 zones, 6.4ms\n",
      "image 107/255 /notebooks/data/test/images/3330_png.rf.ea93a725d4b6e8de023b2e9a226fc367.jpg: 640x640 10 doors, 3 windows, 16 zones, 6.4ms\n",
      "image 108/255 /notebooks/data/test/images/3335_png.rf.7328176a1700046ab863357e49a527b8.jpg: 640x640 4 doors, 5 windows, 17 zones, 6.1ms\n",
      "image 109/255 /notebooks/data/test/images/3381_png.rf.379622ebfbfc4129950f865ce320c7b0.jpg: 640x640 6 doors, 4 windows, 6 zones, 6.4ms\n",
      "image 110/255 /notebooks/data/test/images/3416_png.rf.2580959616cea34f131fe21bb86dcc76.jpg: 640x640 11 doors, 3 windows, 9 zones, 6.4ms\n",
      "image 111/255 /notebooks/data/test/images/3496_png.rf.3f1fc801ed964f3a2eae6d78f076359a.jpg: 640x640 16 doors, 13 windows, 16 zones, 6.4ms\n",
      "image 112/255 /notebooks/data/test/images/3540_png.rf.95654a4bf7df451ba1fb5633420d13ce.jpg: 640x640 9 doors, 3 windows, 7 zones, 6.6ms\n",
      "image 113/255 /notebooks/data/test/images/3544_png.rf.64db7cb1a81ba9f512d8ae8e4bf606c0.jpg: 640x640 7 doors, 6 windows, 10 zones, 6.6ms\n",
      "image 114/255 /notebooks/data/test/images/3597_png.rf.067e38c677b6d047109d257adcfb028d.jpg: 640x640 15 doors, 6 windows, 16 zones, 7.1ms\n",
      "image 115/255 /notebooks/data/test/images/3623_png.rf.4bc5a3c5c025646be18caed37bfb91ef.jpg: 640x640 17 doors, 2 windows, 14 zones, 6.5ms\n",
      "image 116/255 /notebooks/data/test/images/3647_png.rf.652b302e5936bd600ef390af32f58629.jpg: 640x640 17 doors, 9 windows, 10 zones, 6.6ms\n",
      "image 117/255 /notebooks/data/test/images/3675_png.rf.7a40063f69f49193e548dba705da31aa.jpg: 640x640 21 doors, 8 windows, 20 zones, 6.6ms\n",
      "image 118/255 /notebooks/data/test/images/3677_png.rf.ba554f7d9b3fb55d887f5de1e29c4cf5.jpg: 640x640 10 doors, 7 windows, 8 zones, 7.0ms\n",
      "image 119/255 /notebooks/data/test/images/3688_png.rf.5a16cdd2967f74870dee6e88ce77bc7a.jpg: 640x640 8 doors, 8 windows, 11 zones, 6.6ms\n",
      "image 120/255 /notebooks/data/test/images/3689_png.rf.51ef844d5ad863b8bc07e93891f1fe09.jpg: 640x640 12 doors, 6 windows, 10 zones, 6.7ms\n",
      "image 121/255 /notebooks/data/test/images/3723_png.rf.023cd1208ae00d7b053fb98830ffd944.jpg: 640x640 8 doors, 4 windows, 9 zones, 8.8ms\n",
      "image 122/255 /notebooks/data/test/images/3760_png.rf.7826420859e8b4423df71076f0223a8c.jpg: 640x640 12 doors, 2 windows, 9 zones, 6.3ms\n",
      "image 123/255 /notebooks/data/test/images/3774_png.rf.2d0e13d8a83304e6e570fbbe2fa8ffda.jpg: 640x640 9 doors, 6 windows, 6 zones, 6.3ms\n",
      "image 124/255 /notebooks/data/test/images/3794_png.rf.f2cb482c9813298b6ac947a55e313eaf.jpg: 640x640 5 doors, 4 windows, 5 zones, 7.1ms\n",
      "image 125/255 /notebooks/data/test/images/3844_png.rf.918f2384eec5bc84ba33eb2246ce83b3.jpg: 640x640 9 doors, 14 windows, 9 zones, 6.7ms\n",
      "image 126/255 /notebooks/data/test/images/3848_png.rf.8582b1c597cc9f0ae72ebf5db48a9387.jpg: 640x640 9 doors, 5 windows, 6 zones, 6.8ms\n",
      "image 127/255 /notebooks/data/test/images/3927_png.rf.428a4465b748e22d527b698ae5d53ba3.jpg: 640x640 9 doors, 2 windows, 8 zones, 6.6ms\n",
      "image 128/255 /notebooks/data/test/images/3967_png.rf.3d3f3e3a915516339eb9f28155c8f273.jpg: 640x640 18 doors, 5 windows, 9 zones, 6.7ms\n",
      "image 129/255 /notebooks/data/test/images/4020_png.rf.db87022306edc82eed820c3bc1bbeabd.jpg: 640x640 11 doors, 3 windows, 10 zones, 6.7ms\n",
      "image 130/255 /notebooks/data/test/images/4028_png.rf.4b40432e4e190f8bdf98cd4302a58f33.jpg: 640x640 13 doors, 3 windows, 9 zones, 6.5ms\n",
      "image 131/255 /notebooks/data/test/images/4050_png.rf.b2be4cb8683a159aa34c2fc7f981ac56.jpg: 640x640 8 doors, 5 windows, 5 zones, 7.0ms\n",
      "image 132/255 /notebooks/data/test/images/4073_png.rf.d2a582e7f80a67f0778def8f97ac8048.jpg: 640x640 10 doors, 4 windows, 11 zones, 6.6ms\n",
      "image 133/255 /notebooks/data/test/images/4077_png.rf.b58bff96c6622658fd8cc8b0137ea9a2.jpg: 640x640 9 doors, 3 windows, 5 zones, 6.5ms\n",
      "image 134/255 /notebooks/data/test/images/4126_png.rf.4c73cee4422ffcd36b8befb2d20427a3.jpg: 640x640 5 doors, 3 windows, 4 zones, 6.5ms\n",
      "image 135/255 /notebooks/data/test/images/4136_png.rf.ed629ea1367f1e3b875535fc48bd5237.jpg: 640x640 12 doors, 1 window, 12 zones, 6.5ms\n",
      "image 136/255 /notebooks/data/test/images/4142_png.rf.5a3afaadc71564342fd2aafd06934e52.jpg: 640x640 8 doors, 3 windows, 8 zones, 7.3ms\n",
      "image 137/255 /notebooks/data/test/images/4154_png.rf.adb61adc0a9bb1bb3cf7dfb3b65d07eb.jpg: 640x640 15 doors, 2 windows, 12 zones, 7.2ms\n",
      "image 138/255 /notebooks/data/test/images/4176_png.rf.5d045e1ab497419b965f6d8c3af5a072.jpg: 640x640 4 doors, 2 windows, 5 zones, 6.5ms\n",
      "image 139/255 /notebooks/data/test/images/4182_png.rf.1ef2d7fb5e75bd99e1e6cb2c8276236e.jpg: 640x640 13 doors, 3 windows, 14 zones, 6.5ms\n",
      "image 140/255 /notebooks/data/test/images/4206_png.rf.3e340f007cc5707f12e94928ea9f6493.jpg: 640x640 13 doors, 11 windows, 12 zones, 6.5ms\n",
      "image 141/255 /notebooks/data/test/images/4241_png.rf.41423643418527d9e4023b48fb0bbc4d.jpg: 640x640 7 doors, 1 window, 9 zones, 8.6ms\n",
      "image 142/255 /notebooks/data/test/images/4244_png.rf.ccdb9e2f0913e99bd9300a886abfd5bf.jpg: 640x640 8 doors, 4 windows, 5 zones, 6.8ms\n",
      "image 143/255 /notebooks/data/test/images/4246_png.rf.cc18a66bc768243e7f8e1ab7c3c7d33a.jpg: 640x640 15 doors, 14 windows, 15 zones, 6.6ms\n",
      "image 144/255 /notebooks/data/test/images/4285_png.rf.3978f113d7f8b54ac96685410e3f015f.jpg: 640x640 23 doors, 11 windows, 18 zones, 6.5ms\n",
      "image 145/255 /notebooks/data/test/images/4318_png.rf.4f7306127bf079f630c359591b8af3eb.jpg: 640x640 11 doors, 5 windows, 11 zones, 6.7ms\n",
      "image 146/255 /notebooks/data/test/images/4372_png.rf.3ffcdd80fea1e1986ecc1597317d6a7b.jpg: 640x640 9 doors, 7 windows, 9 zones, 6.8ms\n",
      "image 147/255 /notebooks/data/test/images/4427_png.rf.324e2ab5e3d24c007b51e78e2c1313f3.jpg: 640x640 11 doors, 9 windows, 13 zones, 6.8ms\n",
      "image 148/255 /notebooks/data/test/images/4434_png.rf.eba4f26bc81c27e75872cfa7a21a5c5b.jpg: 640x640 5 doors, 6 windows, 5 zones, 8.3ms\n",
      "image 149/255 /notebooks/data/test/images/4456_png.rf.632d48c71058a3326ab053492bef0987.jpg: 640x640 8 doors, 5 windows, 10 zones, 6.4ms\n",
      "image 150/255 /notebooks/data/test/images/4495_png.rf.2e813b8540b6e03a0aac5d3e32546603.jpg: 640x640 9 doors, 6 windows, 7 zones, 6.5ms\n",
      "image 151/255 /notebooks/data/test/images/4535_png.rf.d6498f7e5f073a793f62f6ca4a9f9bf8.jpg: 640x640 15 doors, 5 windows, 15 zones, 6.3ms\n",
      "image 152/255 /notebooks/data/test/images/4561_png.rf.4bcda6720724d849c3c9a2dcbf08d6af.jpg: 640x640 17 doors, 5 windows, 13 zones, 6.3ms\n",
      "image 153/255 /notebooks/data/test/images/4645_png.rf.49402504674be185694f9e2728c81172.jpg: 640x640 10 doors, 5 windows, 11 zones, 6.8ms\n",
      "image 154/255 /notebooks/data/test/images/4689_png.rf.5a8ad31dad12ac36aeff3eb7d1c30a0b.jpg: 640x640 26 doors, 16 windows, 29 zones, 6.8ms\n",
      "image 155/255 /notebooks/data/test/images/4740_png.rf.a6071a4698e8680bc18dc41a7ee395ba.jpg: 640x640 4 doors, 10 windows, 13 zones, 6.9ms\n",
      "image 156/255 /notebooks/data/test/images/4752_png.rf.3ecafa9af2eabfbb1b9b79b0eb8231db.jpg: 640x640 10 doors, 6 windows, 8 zones, 6.8ms\n",
      "image 157/255 /notebooks/data/test/images/4768_png.rf.b8af6eb9551545e675ad4624b6a2d59a.jpg: 640x640 22 doors, 10 windows, 15 zones, 6.7ms\n",
      "image 158/255 /notebooks/data/test/images/4806_png.rf.57e7fe0867ccfeb467303376c54fb810.jpg: 640x640 8 doors, 4 windows, 14 zones, 6.8ms\n",
      "image 159/255 /notebooks/data/test/images/4846_png.rf.b8381e5a5520a2eb25aa1f0cb4fea091.jpg: 640x640 7 doors, 3 windows, 5 zones, 6.6ms\n",
      "image 160/255 /notebooks/data/test/images/4857_png.rf.a68a1bb976e701ebcf4a7a7f00fcbc65.jpg: 640x640 13 doors, 2 windows, 19 zones, 6.3ms\n",
      "image 161/255 /notebooks/data/test/images/4873_png.rf.74a5fb51d94d250167de1a343e766a9d.jpg: 640x640 10 doors, 5 windows, 8 zones, 6.6ms\n",
      "image 162/255 /notebooks/data/test/images/4894_png.rf.819c39332e57a92032baca95bd3c8b1b.jpg: 640x640 11 doors, 15 windows, 12 zones, 6.8ms\n",
      "image 163/255 /notebooks/data/test/images/4934_png.rf.bdf914fa8c3b2b100adb27224d3ae14d.jpg: 640x640 6 doors, 6 windows, 7 zones, 6.5ms\n",
      "image 164/255 /notebooks/data/test/images/4960_png.rf.bc653d1bf4114c268a45edb5c02198b7.jpg: 640x640 11 doors, 8 windows, 12 zones, 6.8ms\n",
      "image 165/255 /notebooks/data/test/images/4979_png.rf.edb778c3c1d1bbb28975e48fb3c56e11.jpg: 640x640 10 doors, 1 window, 9 zones, 6.7ms\n",
      "image 166/255 /notebooks/data/test/images/5030_png.rf.ea8a92f233a23204da5bb45e3035426c.jpg: 640x640 8 doors, 8 windows, 8 zones, 9.4ms\n",
      "image 167/255 /notebooks/data/test/images/5047_png.rf.c3571498874beee00ee3da2dac4f1903.jpg: 640x640 9 doors, 3 windows, 7 zones, 6.4ms\n",
      "image 168/255 /notebooks/data/test/images/5150_png.rf.6b3e8a22efb61f431f44e98d4ad10e70.jpg: 640x640 9 doors, 4 windows, 7 zones, 6.5ms\n",
      "image 169/255 /notebooks/data/test/images/5177_png.rf.48ab03158fc28115735099f420b555f8.jpg: 640x640 13 doors, 3 windows, 16 zones, 6.9ms\n",
      "image 170/255 /notebooks/data/test/images/5282_png.rf.3d0c537dd87cae9ed3c23a574b486591.jpg: 640x640 3 doors, 1 window, 2 zones, 6.5ms\n",
      "image 171/255 /notebooks/data/test/images/5310_png.rf.6ee14cbd957a4e12520129599049124c.jpg: 640x640 7 doors, 2 windows, 8 zones, 7.2ms\n",
      "image 172/255 /notebooks/data/test/images/5338_png.rf.6544355bec7aa6db6ed8bac9e1510dfc.jpg: 640x640 10 doors, 3 windows, 15 zones, 6.7ms\n",
      "image 173/255 /notebooks/data/test/images/533_png.rf.6593c8ee4500950c5b2b3c03f03e5cc2.jpg: 640x640 11 doors, 6 windows, 8 zones, 6.8ms\n",
      "image 174/255 /notebooks/data/test/images/5351_png.rf.e14195b3fcd42ab4da78b20ec542aa32.jpg: 640x640 15 doors, 7 windows, 11 zones, 7.3ms\n",
      "image 175/255 /notebooks/data/test/images/5375_png.rf.29a9bc8f408955ccf8160834fb7dee14.jpg: 640x640 9 doors, 8 windows, 13 zones, 6.4ms\n",
      "image 176/255 /notebooks/data/test/images/5377_png.rf.576937e521cac6c49c35edd17284a039.jpg: 640x640 19 doors, 5 windows, 14 zones, 6.5ms\n",
      "image 177/255 /notebooks/data/test/images/537_png.rf.1cb97c365066387affd98d018e1333c9.jpg: 640x640 14 doors, 5 windows, 12 zones, 6.5ms\n",
      "image 178/255 /notebooks/data/test/images/539_png.rf.2852e55b147875a9f10f2988b61970dd.jpg: 640x640 9 doors, 8 windows, 12 zones, 6.5ms\n",
      "image 179/255 /notebooks/data/test/images/5407_png.rf.14a87e6b2b7f3cae706857bf81ce2ced.jpg: 640x640 8 doors, 7 windows, 8 zones, 6.4ms\n",
      "image 180/255 /notebooks/data/test/images/5429_png.rf.a932d5a5e24a1b9d04538dd43e2b7ea2.jpg: 640x640 7 doors, 6 windows, 8 zones, 6.4ms\n",
      "image 181/255 /notebooks/data/test/images/5468_png.rf.148c5cfc2252251e815b84c14c769e5e.jpg: 640x640 17 doors, 8 windows, 14 zones, 6.6ms\n",
      "image 182/255 /notebooks/data/test/images/5475_png.rf.49b6a4ecbd0a496cbc3f84479d64487c.jpg: 640x640 7 doors, 1 window, 10 zones, 6.4ms\n",
      "image 183/255 /notebooks/data/test/images/5481_png.rf.0abd6b14285023846a32e37392f945fc.jpg: 640x640 14 doors, 12 windows, 16 zones, 6.3ms\n",
      "image 184/255 /notebooks/data/test/images/5495_png.rf.3a5db2961e1c481b568059f2a7af91b0.jpg: 640x640 18 doors, 1 window, 17 zones, 6.6ms\n",
      "image 185/255 /notebooks/data/test/images/5517_png.rf.6979d4eafd2caf9032473a3a4dff74a6.jpg: 640x640 16 doors, 9 windows, 14 zones, 6.6ms\n",
      "image 186/255 /notebooks/data/test/images/5525_png.rf.d377427f63b430c7edfbcc3e8817ddd9.jpg: 640x640 13 doors, 5 windows, 12 zones, 6.9ms\n",
      "image 187/255 /notebooks/data/test/images/559_png.rf.03569907edb8c302caf3d5d4196f6ba5.jpg: 640x640 8 doors, 7 windows, 9 zones, 6.6ms\n",
      "image 188/255 /notebooks/data/test/images/5608_png.rf.f79de8f0173d4fb0143cc0574681f7fa.jpg: 640x640 8 doors, 4 windows, 7 zones, 6.8ms\n",
      "image 189/255 /notebooks/data/test/images/5610_png.rf.4f29893cadaa7ff1dbe0bb4d1117ae84.jpg: 640x640 16 doors, 6 windows, 13 zones, 6.7ms\n",
      "image 190/255 /notebooks/data/test/images/5637_png.rf.0033d7a78c255616ac0057ffa3bc18db.jpg: 640x640 20 doors, 7 windows, 20 zones, 6.5ms\n",
      "image 191/255 /notebooks/data/test/images/5643_png.rf.b105e1fce147cf165a91bfb1580ec6bc.jpg: 640x640 7 doors, 3 windows, 7 zones, 6.6ms\n",
      "image 192/255 /notebooks/data/test/images/5660_png.rf.f966699c980834432f839c60ac8eb1cf.jpg: 640x640 10 doors, 15 windows, 12 zones, 7.0ms\n",
      "image 193/255 /notebooks/data/test/images/5684_png.rf.0dce5cb4f37b90685a8704dcdbeda060.jpg: 640x640 11 doors, 4 windows, 9 zones, 6.6ms\n",
      "image 194/255 /notebooks/data/test/images/571_png.rf.9c9fe2c3dd97072a8f034c9e6fdcec74.jpg: 640x640 22 doors, 7 windows, 11 zones, 6.4ms\n",
      "image 195/255 /notebooks/data/test/images/572_png.rf.40a7c341805bd6b999408ec9198bb0f5.jpg: 640x640 7 doors, 5 windows, 7 zones, 6.9ms\n",
      "image 196/255 /notebooks/data/test/images/5775_png.rf.91e0bbe5a5cd8b5bc3c53acaa8ec17db.jpg: 640x640 10 doors, 8 windows, 8 zones, 6.5ms\n",
      "image 197/255 /notebooks/data/test/images/5784_png.rf.43e929fe43b1e769446963f27bf9b41c.jpg: 640x640 9 doors, 3 windows, 8 zones, 6.6ms\n",
      "image 198/255 /notebooks/data/test/images/582_png.rf.78f7db3bcf0bd55d42137abb3b8e119b.jpg: 640x640 14 doors, 6 windows, 11 zones, 9.0ms\n",
      "image 199/255 /notebooks/data/test/images/5856_png.rf.408b1d7c0fe2d7739dfa78b3987086a6.jpg: 640x640 9 doors, 4 windows, 11 zones, 6.7ms\n",
      "image 200/255 /notebooks/data/test/images/5868_png.rf.ab66eb57be9ed3c000aed65bf9da332e.jpg: 640x640 10 doors, 2 windows, 6 zones, 6.7ms\n",
      "image 201/255 /notebooks/data/test/images/5951_png.rf.dde762c4e283f7f0ec203e3da1d010be.jpg: 640x640 11 doors, 3 windows, 17 zones, 6.7ms\n",
      "image 202/255 /notebooks/data/test/images/6001_png.rf.30419aa556a6b1f9022df1750e89f730.jpg: 640x640 8 doors, 1 window, 5 zones, 6.9ms\n",
      "image 203/255 /notebooks/data/test/images/6025_png.rf.f27117ba3202e760be7d9bfd26fe81d7.jpg: 640x640 9 doors, 3 windows, 8 zones, 6.5ms\n",
      "image 204/255 /notebooks/data/test/images/6032_png.rf.01f89fef5f3588c9e5defc3c8bb428e0.jpg: 640x640 1 window, 9 zones, 6.7ms\n",
      "image 205/255 /notebooks/data/test/images/6060_png.rf.ba280fddf4b7032e8f56ca7a6ce51cf9.jpg: 640x640 5 doors, 2 windows, 5 zones, 6.4ms\n",
      "image 206/255 /notebooks/data/test/images/6064_png.rf.97e1c84e6614c19ece1a647655d7e4ba.jpg: 640x640 13 doors, 5 windows, 9 zones, 6.5ms\n",
      "image 207/255 /notebooks/data/test/images/6094_png.rf.7c4eab9e04b6375284ffe0a4eba36ce1.jpg: 640x640 11 doors, 8 windows, 9 zones, 6.5ms\n",
      "image 208/255 /notebooks/data/test/images/6175_png.rf.81eea690fa206ae7aa304064db1554bf.jpg: 640x640 20 doors, 15 windows, 21 zones, 8.0ms\n",
      "image 209/255 /notebooks/data/test/images/6197_png.rf.4acd57d599203d5bdd20c92ba0ebd4a6.jpg: 640x640 7 doors, 6 windows, 6 zones, 7.0ms\n",
      "image 210/255 /notebooks/data/test/images/6227_png.rf.95490753bb7e87a7e38f66c3005e889c.jpg: 640x640 14 doors, 4 windows, 9 zones, 6.9ms\n",
      "image 211/255 /notebooks/data/test/images/6248_png.rf.b8300758d6431fb3c898901e2d7b9d55.jpg: 640x640 11 doors, 5 windows, 12 zones, 6.6ms\n",
      "image 212/255 /notebooks/data/test/images/6292_png.rf.1c89739d919b397776d4a4a114b57e90.jpg: 640x640 8 doors, 2 windows, 6 zones, 6.5ms\n",
      "image 213/255 /notebooks/data/test/images/6332_png.rf.eb605add72af32adc9556d89f743bb38.jpg: 640x640 6 doors, 3 windows, 4 zones, 6.9ms\n",
      "image 214/255 /notebooks/data/test/images/6333_png.rf.f116d1d79d3cb255ce0a74939b0532cb.jpg: 640x640 13 doors, 7 windows, 9 zones, 6.5ms\n",
      "image 215/255 /notebooks/data/test/images/6344_png.rf.309a09bbffb16af1114feabc769bdbb6.jpg: 640x640 17 doors, 2 windows, 16 zones, 6.6ms\n",
      "image 216/255 /notebooks/data/test/images/6368_png.rf.60cd641ba1694ff25715d7bb9abce6a9.jpg: 640x640 8 doors, 7 windows, 8 zones, 6.8ms\n",
      "image 217/255 /notebooks/data/test/images/636_png.rf.fcf21f65d02f1f911356430729bc7043.jpg: 640x640 14 doors, 27 windows, 12 zones, 6.5ms\n",
      "image 218/255 /notebooks/data/test/images/6403_png.rf.443dae3e98a2a92d15fe926e09bdde7f.jpg: 640x640 6 doors, 7 windows, 6 zones, 6.5ms\n",
      "image 219/255 /notebooks/data/test/images/6456_png.rf.0c60c2c6b72f77c46ec5deba6b30e62e.jpg: 640x640 8 doors, 4 windows, 10 zones, 6.5ms\n",
      "image 220/255 /notebooks/data/test/images/6518_png.rf.86407e6f76e8abc99f15dd5b243fa515.jpg: 640x640 21 doors, 8 windows, 21 zones, 6.7ms\n",
      "image 221/255 /notebooks/data/test/images/653_png.rf.70aeeb6b1443a68a1afe3d43fc752990.jpg: 640x640 6 doors, 3 windows, 5 zones, 8.6ms\n",
      "image 222/255 /notebooks/data/test/images/6548_png.rf.1495c5745df16f144a1b132ae0a1e02e.jpg: 640x640 11 doors, 4 windows, 19 zones, 7.7ms\n",
      "image 223/255 /notebooks/data/test/images/6553_png.rf.e0aa5e107f8a3e95f3124f91fe39094e.jpg: 640x640 7 doors, 4 zones, 6.4ms\n",
      "image 224/255 /notebooks/data/test/images/659_png.rf.1ccbff80188af73e1eea416d5ff8b750.jpg: 640x640 10 doors, 4 windows, 6 zones, 6.4ms\n",
      "image 225/255 /notebooks/data/test/images/6601_png.rf.2e528bce6086d29217af39847609a17c.jpg: 640x640 8 doors, 1 window, 5 zones, 6.5ms\n",
      "image 226/255 /notebooks/data/test/images/6628_png.rf.23a1ed8dd28f0d3ff93766e119580fd2.jpg: 640x640 7 doors, 6 windows, 9 zones, 6.6ms\n",
      "image 227/255 /notebooks/data/test/images/6729_png.rf.16835be16d6c640abe6ca78eb3d78a53.jpg: 640x640 12 doors, 8 windows, 5 zones, 6.6ms\n",
      "image 228/255 /notebooks/data/test/images/6731_png.rf.43c1cc23cef0a4d80cd8fc1547f96a06.jpg: 640x640 12 doors, 8 windows, 15 zones, 6.5ms\n",
      "image 229/255 /notebooks/data/test/images/6759_png.rf.c38bbdd692596d50c86deb5e6617ec69.jpg: 640x640 9 doors, 3 windows, 7 zones, 6.6ms\n",
      "image 230/255 /notebooks/data/test/images/683_png.rf.83699e0854480026b1adcbe9c3af3f50.jpg: 640x640 5 doors, 5 windows, 5 zones, 6.5ms\n",
      "image 231/255 /notebooks/data/test/images/698_png.rf.109bdcd2c3e6a291fde8333dfdbc6b4f.jpg: 640x640 2 doors, 2 windows, 3 zones, 6.4ms\n",
      "image 232/255 /notebooks/data/test/images/703_png.rf.f9677c057271456be4a005dba40852a9.jpg: 640x640 4 doors, 4 windows, 5 zones, 6.6ms\n",
      "image 233/255 /notebooks/data/test/images/716_png.rf.0d5d0cc685e5c5a80b2b3ef9607a2869.jpg: 640x640 24 doors, 23 windows, 20 zones, 6.4ms\n",
      "image 234/255 /notebooks/data/test/images/724_png.rf.2154938f67e4c648930d5cf6d736423c.jpg: 640x640 3 doors, 3 windows, 2 zones, 7.7ms\n",
      "image 235/255 /notebooks/data/test/images/730_png.rf.0860aea4fdbe666860c19e0b79862d28.jpg: 640x640 4 doors, 2 windows, 1 zone, 6.5ms\n",
      "image 236/255 /notebooks/data/test/images/744_png.rf.d1b94f9b92f1efdda91d2529b1669b6d.jpg: 640x640 4 doors, 2 windows, 4 zones, 6.6ms\n",
      "image 237/255 /notebooks/data/test/images/745_png.rf.21a9a5641205a78fab1eac9760ab1e02.jpg: 640x640 10 doors, 3 windows, 9 zones, 6.7ms\n",
      "image 238/255 /notebooks/data/test/images/764_png.rf.3e89eab16602c512b6fc8bbfa9ea6b1f.jpg: 640x640 7 doors, 3 windows, 5 zones, 7.2ms\n",
      "image 239/255 /notebooks/data/test/images/777_png.rf.3c368a6da1733816ba53b3040314a519.jpg: 640x640 6 doors, 2 windows, 4 zones, 6.9ms\n",
      "image 240/255 /notebooks/data/test/images/781_png.rf.328b5c9610113d12e28a55ed8bb43b50.jpg: 640x640 1 door, 1 window, 1 zone, 12.5ms\n",
      "image 241/255 /notebooks/data/test/images/822_png.rf.7219f9ec80dd816202baf1b82c97d3db.jpg: 640x640 11 doors, 8 windows, 14 zones, 9.5ms\n",
      "image 242/255 /notebooks/data/test/images/825_png.rf.2a1c27e5ca9217fa66d2370990f33da0.jpg: 640x640 11 doors, 12 windows, 11 zones, 7.9ms\n",
      "image 243/255 /notebooks/data/test/images/830_png.rf.799fcef33626d71a78c1e11abe4d16ce.jpg: 640x640 3 doors, 5 windows, 8 zones, 14.6ms\n",
      "image 244/255 /notebooks/data/test/images/832_png.rf.5430d13d5eb2ea139995d0610b210378.jpg: 640x640 7 doors, 3 windows, 6 zones, 7.5ms\n",
      "image 245/255 /notebooks/data/test/images/848_png.rf.ecc3977f99c78a4bbde21e776f9f3085.jpg: 640x640 9 doors, 4 windows, 8 zones, 8.2ms\n",
      "image 246/255 /notebooks/data/test/images/864_png.rf.2f279214392e927a8bcd7909439226b7.jpg: 640x640 5 doors, 3 windows, 5 zones, 7.0ms\n",
      "image 247/255 /notebooks/data/test/images/875_png.rf.985c19271e326c66ec33358e3e28cfc6.jpg: 640x640 6 doors, 6 windows, 5 zones, 7.5ms\n",
      "image 248/255 /notebooks/data/test/images/880_png.rf.d3ed66d59d8b27b140416df7829c4312.jpg: 640x640 13 doors, 3 windows, 9 zones, 7.1ms\n",
      "image 249/255 /notebooks/data/test/images/891_png.rf.3350d7d43ec6f6084e4205a6954484cc.jpg: 640x640 12 doors, 6 windows, 12 zones, 7.0ms\n",
      "image 250/255 /notebooks/data/test/images/909_png.rf.6516076ac6a9083f0c5fe6dbb8b1de68.jpg: 640x640 12 doors, 2 windows, 11 zones, 6.8ms\n",
      "image 251/255 /notebooks/data/test/images/938_png.rf.ce42e627d4f666b6072d0acd2c2f48a8.jpg: 640x640 2 doors, 2 windows, 1 zone, 7.7ms\n",
      "image 252/255 /notebooks/data/test/images/944_png.rf.d798999b4911ebb4b8f531f9edf20cef.jpg: 640x640 6 doors, 3 windows, 6 zones, 7.4ms\n",
      "image 253/255 /notebooks/data/test/images/962_png.rf.9309dc42860bb7395ad8b969eba819f0.jpg: 640x640 10 doors, 3 windows, 10 zones, 6.5ms\n",
      "image 254/255 /notebooks/data/test/images/965_png.rf.f1218fa437cb68d253394a315a7571f5.jpg: 640x640 10 doors, 7 windows, 10 zones, 6.9ms\n",
      "image 255/255 /notebooks/data/test/images/998_png.rf.ddf9855e9dd7a44a4fce461822b8cb5f.jpg: 640x640 12 doors, 7 windows, 9 zones, 6.6ms\n",
      "Speed: 1.1ms preprocess, 6.8ms inference, 1.0ms postprocess per image at shape (1, 3, 640, 640)\n",
      "Results saved to \u001b[1mruns/detect/predict4\u001b[0m\n",
      "💡 Learn more at https://docs.ultralytics.com/modes/predict\n"
     ]
    }
   ],
   "source": [
    "!yolo task=detect mode=predict model=\"/notebooks/runs/detect/train16/weights/best.pt\" conf=0.5 source=\"data/test/images\""
   ]
  }
 ],
 "metadata": {
  "accelerator": "GPU",
  "colab": {
   "authorship_tag": "ABX9TyOuK9rHDua7GOhfYkUNYUqW",
   "gpuType": "T4",
   "mount_file_id": "1VoXcGWyvcVEtbuVhT4GS6lW5g2Z305_x",
   "provenance": [],
   "toc_visible": true
  },
  "kernelspec": {
   "display_name": "Python 3 (ipykernel)",
   "language": "python",
   "name": "python3"
  },
  "language_info": {
   "codemirror_mode": {
    "name": "ipython",
    "version": 3
   },
   "file_extension": ".py",
   "mimetype": "text/x-python",
   "name": "python",
   "nbconvert_exporter": "python",
   "pygments_lexer": "ipython3",
   "version": "3.9.16"
  }
 },
 "nbformat": 4,
 "nbformat_minor": 4
}
